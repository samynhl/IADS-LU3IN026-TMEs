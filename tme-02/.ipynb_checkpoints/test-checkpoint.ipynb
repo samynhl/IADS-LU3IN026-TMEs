{
 "cells": [
  {
   "cell_type": "code",
   "execution_count": 1,
   "id": "ebecdda1",
   "metadata": {},
   "outputs": [],
   "source": [
    "import pandas as pd\n",
    "import numpy as np\n",
    "from sklearn import datasets"
   ]
  },
  {
   "cell_type": "code",
   "execution_count": 6,
   "id": "5c752a5c",
   "metadata": {},
   "outputs": [
    {
     "name": "stdout",
     "output_type": "stream",
     "text": [
      "     0    1    2    3\n",
      "0  5.1  3.5  1.4  0.2\n",
      "1  4.9  3.0  1.4  0.2\n",
      "2  4.7  3.2  1.3  0.2\n",
      "3  4.6  3.1  1.5  0.2\n",
      "4  5.0  3.6  1.4  0.2\n"
     ]
    }
   ],
   "source": [
    "iris = datasets.load_iris()\n",
    "X = iris.data\n",
    "y = iris.target\n",
    "\n",
    "df = pd.DataFrame(X)\n",
    "print(df.head())"
   ]
  },
  {
   "cell_type": "code",
   "execution_count": 9,
   "id": "56634d27",
   "metadata": {},
   "outputs": [
    {
     "name": "stdout",
     "output_type": "stream",
     "text": [
      "          0         1         2         3\n",
      "0  1.000000  0.117570  0.871754  0.817941\n",
      "1  0.117570  1.000000  0.428440  0.366126\n",
      "2  0.871754  0.428440  1.000000  0.962865\n",
      "3  0.817941  0.366126  0.962865  1.000000\n"
     ]
    }
   ],
   "source": [
    "cor_matrix = df.corr().abs()\n",
    "print(cor_matrix)"
   ]
  },
  {
   "cell_type": "code",
   "execution_count": 10,
   "id": "59fca41f",
   "metadata": {},
   "outputs": [
    {
     "name": "stdout",
     "output_type": "stream",
     "text": [
      "    0        1         2         3\n",
      "0 NaN  0.11757  0.871754  0.817941\n",
      "1 NaN      NaN  0.428440  0.366126\n",
      "2 NaN      NaN       NaN  0.962865\n",
      "3 NaN      NaN       NaN       NaN\n"
     ]
    },
    {
     "name": "stderr",
     "output_type": "stream",
     "text": [
      "C:\\Users\\PC\\AppData\\Local\\Temp\\ipykernel_4560\\3477284062.py:1: DeprecationWarning: `np.bool` is a deprecated alias for the builtin `bool`. To silence this warning, use `bool` by itself. Doing this will not modify any behavior and is safe. If you specifically wanted the numpy scalar type, use `np.bool_` here.\n",
      "Deprecated in NumPy 1.20; for more details and guidance: https://numpy.org/devdocs/release/1.20.0-notes.html#deprecations\n",
      "  upper_tri = cor_matrix.where(np.triu(np.ones(cor_matrix.shape),k=1).astype(np.bool))\n"
     ]
    }
   ],
   "source": [
    "upper_tri = cor_matrix.where(np.triu(np.ones(cor_matrix.shape),k=1).astype(np.bool))\n",
    "print(upper_tri)"
   ]
  },
  {
   "cell_type": "code",
   "execution_count": 22,
   "id": "ae760830",
   "metadata": {},
   "outputs": [
    {
     "name": "stdout",
     "output_type": "stream",
     "text": [
      "\n",
      "[3]\n"
     ]
    }
   ],
   "source": [
    "to_drop = [column for column in upper_tri.columns if any(upper_tri[column] > 0.95)]\n",
    "print(); print(to_drop)"
   ]
  },
  {
   "cell_type": "code",
   "execution_count": 12,
   "id": "688a0c0c",
   "metadata": {},
   "outputs": [
    {
     "name": "stdout",
     "output_type": "stream",
     "text": [
      "\n",
      "     0    1    2\n",
      "0  5.1  3.5  1.4\n",
      "1  4.9  3.0  1.4\n",
      "2  4.7  3.2  1.3\n",
      "3  4.6  3.1  1.5\n",
      "4  5.0  3.6  1.4\n"
     ]
    }
   ],
   "source": [
    "df1 = df.drop(df.columns[to_drop], axis=1)\n",
    "print(); print(df1.head())"
   ]
  },
  {
   "cell_type": "code",
   "execution_count": 54,
   "id": "e64e5caa",
   "metadata": {},
   "outputs": [],
   "source": [
    "import pickle as pkl\n",
    "\n",
    "data = pkl.load(open('ressources/usps.pkl', 'rb'))\n",
    "X = np.array(data['X_train'], dtype=float) # conversion de type pour une meilleure compatibilité\n",
    "Y = np.array(data['Y_train'], dtype=float)\n",
    "\n",
    "# ------------------------ A COMPLETER :\n",
    "# reduction du jeu de données\n",
    "X12 = np.vstack((X[Y==2],X[Y==1]))\n",
    "# Y12 =  # encoder en -1/1 1:1 -1:2\n",
    "Y12 = np.asarray([-1 for i in range(len(X[Y==1]))]+[1 for i in range(len(X[Y==2]))])\n",
    "\n",
    "A = pd.DataFrame(X)\n",
    "B = pd.DataFrame(Y)\n",
    "\n",
    "cor_matrix = A.corr().abs()\n",
    "#print(cor_matrix)\n",
    "\n",
    "upper_tri = cor_matrix.where(np.triu(np.ones(cor_matrix.shape),k=1).astype(np.bool))\n",
    "#print(upper_tri)\n",
    "\n",
    "to_drop = [column for column in upper_tri.columns if any(upper_tri[column] > 0.8)]\n",
    "print(); print(to_drop)\n",
    "\n",
    "df = A.drop(A.columns[to_drop], axis=1)\n",
    "print(); print(df.shape)"
   ]
  },
  {
   "cell_type": "code",
   "execution_count": null,
   "id": "29174ea1",
   "metadata": {},
   "outputs": [],
   "source": []
  }
 ],
 "metadata": {
  "kernelspec": {
   "display_name": "Python 3 (ipykernel)",
   "language": "python",
   "name": "python3"
  },
  "language_info": {
   "codemirror_mode": {
    "name": "ipython",
    "version": 3
   },
   "file_extension": ".py",
   "mimetype": "text/x-python",
   "name": "python",
   "nbconvert_exporter": "python",
   "pygments_lexer": "ipython3",
   "version": "3.10.0"
  }
 },
 "nbformat": 4,
 "nbformat_minor": 5
}
