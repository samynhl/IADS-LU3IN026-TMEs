{
 "cells": [
  {
   "cell_type": "markdown",
   "metadata": {},
   "source": [
    "IA & Data science (LU3IN0226) -- 2021-2022\n",
    "--------\n",
    "*&copy; Equipe pédagogique: Vincent Guigue, Christophe Marsala, Olivier Schwander.*\n"
   ]
  },
  {
   "cell_type": "markdown",
   "metadata": {},
   "source": [
    "# TD-TME 5 : Réduction de dimensionnalité: visualisation & débruitage. Algorithme ADALINE et descente de gradient."
   ]
  },
  {
   "cell_type": "markdown",
   "metadata": {},
   "source": [
    "<font size=\"+1\" color=\"RED\"><b>[Q]</b></font> **Indiquer dans la boîte ci-dessous vos noms et prénoms :**"
   ]
  },
  {
   "cell_type": "markdown",
   "metadata": {},
   "source": [
    "NEHLIL"
   ]
  },
  {
   "cell_type": "markdown",
   "metadata": {},
   "source": [
    "<font color=\"RED\" size=\"+1\"><b>[Q]</b></font> **Renommer ce fichier ipython**\n",
    "\n",
    "Tout en haut de cette page, cliquer sur <tt>tme-05</tt> et rajouter à la suite de <tt>tme-05</tt> les noms des membres du binômes séparés par un tiret.\n",
    "\n",
    "<font color=\"RED\" size=\"+1\">IMPORTANT: soumission de votre fichier final</font>\n",
    "\n",
    "**Nom à donner au fichier à poster** : *tme-05-Nom1_Nom2.ipynb* \n",
    "- *Nom1* et *Nom2* : noms des membres du binôme\n",
    "- ne pas compresser ou faire une archive: il faut rendre le fichier ipython tel quel, éventuellement, si vous avez d'autres fichiers vous les rendez séparément.\n",
    "\n",
    "**Echancier pour la soumission de votre compte-rendu:**\n",
    "- le compte-rendu d'une séance doit être remis obligatoirement <font color=\"RED\">avant la séance suivante</font>.\n",
    "\n",
    "**Le compte-rendu est soumis sur la page Moodle.**"
   ]
  },
  {
   "cell_type": "code",
   "execution_count": 29,
   "metadata": {},
   "outputs": [
    {
     "name": "stdout",
     "output_type": "stream",
     "text": [
      "The autoreload extension is already loaded. To reload it, use:\n",
      "  %reload_ext autoreload\n"
     ]
    }
   ],
   "source": [
    "# Importation de librairies standards:\n",
    "import numpy as np\n",
    "import pandas as pd\n",
    "from datetime import datetime as dt\n",
    "import matplotlib.pyplot as plt\n",
    "from matplotlib import cm\n",
    "%matplotlib inline  \n",
    "\n",
    "# Les instructions suivantes sont TRES utiles pour recharger automatiquement \n",
    "# le code modifié dans les librairies externes\n",
    "%load_ext autoreload\n",
    "%autoreload 2"
   ]
  },
  {
   "cell_type": "code",
   "execution_count": 30,
   "metadata": {},
   "outputs": [],
   "source": [
    "# Importation de votre librairie iads:\n",
    "# La ligne suivante permet de préciser le chemin d'accès à la librairie iads\n",
    "import sys\n",
    "sys.path.append('../')   # iads doit être dans le répertoire frère du répertoire courant !\n",
    "\n",
    "# Importation de la librairie iads\n",
    "import iads as iads\n",
    "\n",
    "# importation de Classifiers\n",
    "from iads import Classifiers as classif\n",
    "\n",
    "# importation de utils\n",
    "from iads import utils as ut\n"
   ]
  },
  {
   "cell_type": "markdown",
   "metadata": {},
   "source": [
    "# Bilan des séances précédentes\n",
    "\n",
    "<div class=\"alert alert-block alert-warning\">\n",
    "Avant de vous attaquer à la partie suivante sur la visualisation des données, vous devez avoir terminé les TME précédents, et en particulier:\n",
    "\n",
    "1. les fonctions pour générer des datasets uniformes, gaussiens et XOR.\n",
    "2. les classifieurs: ClassifierKNN, ClassifierLineaireRandom, ClassifierPerceptron, ClassifierPerceptronBiais, ClassifierPerceptronKernel\n",
    "3. le classifieur multiclasses ClassifierMultiOOA    \n",
    "4. les fonctions crossval, crossval_strat et analyse_perfs\n",
    "5. toutes les fonctions et classes doivent avoir été testées et validées, et recopiées dans les fichiers correspondants:\n",
    "    - utils.py pour les fonctions 1) \n",
    "    - Classifiers.py pour les fonctions 2) et 3) \n",
    "    - evaluations.py pour les fonctions 4)\n",
    "\n",
    "Si vous ne les avez pas terminées : consacrer le début de ce TME 5 à vous mettre à jour.    \n",
    "</div>    "
   ]
  },
  {
   "cell_type": "markdown",
   "metadata": {},
   "source": [
    "# Visualisation de données\n",
    "\n",
    "Nous proposons une série d'expériences pour appréhender la visualisation de données et la réduction de la dimensionnalité:\n",
    "\n",
    "1. Comprendre la signification des valeurs propres et vecteurs propres sur les données gaussiennes sur lesquelles nous avons travaillé jusqu'ici\n",
    "1. Générer un jeu de données jouet en 3D puis réduire la dimensionnalité\n",
    "1. Appliquer cette réduction de dimension sur les données USPS"
   ]
  },
  {
   "cell_type": "code",
   "execution_count": 31,
   "metadata": {},
   "outputs": [
    {
     "name": "stdout",
     "output_type": "stream",
     "text": [
      "(200, 2)\n"
     ]
    },
    {
     "data": {
      "text/plain": [
       "<matplotlib.collections.PathCollection at 0x1768dbfe5f0>"
      ]
     },
     "execution_count": 31,
     "metadata": {},
     "output_type": "execute_result"
    },
    {
     "data": {
      "image/png": "[encoded data removed]",
      "text/plain": [
       "<Figure size 432x288 with 1 Axes>"
      ]
     },
     "metadata": {
      "needs_background": "light"
     },
     "output_type": "display_data"
    }
   ],
   "source": [
    "# Exemple d'utilisation:\n",
    "np.random.seed(42)   # on prend 42 comme graine\n",
    "\n",
    "# générer des données gaussienne 2D\n",
    "\n",
    "N = 100\n",
    "X,Y =  ut.genere_dataset_gaussian([-1,-1],[[1,0],[0,1]], [1, 1],[[1,0],[0,1]],N)\n",
    "print(X.shape)\n",
    "plt.figure()\n",
    "plt.scatter(X[Y==1,0],X[Y==1,1])\n",
    "plt.scatter(X[Y==-1,0],X[Y==-1,1])"
   ]
  },
  {
   "cell_type": "markdown",
   "metadata": {},
   "source": [
    "<font color=\"RED\" size=\"+1\"><b>[Q]</b></font> Avant de poursuivre, répondez aux questions suivantes:\n",
    "- Combien y a-t-il de vecteurs propres et de valeurs propres dans ce problème?\n",
    "- Quel axe de plus forte variance est pressenti?"
   ]
  },
  {
   "cell_type": "markdown",
   "metadata": {},
   "source": [
    "Réponses:\n",
    "\n",
    "\n",
    "[Entrez votre réponse ici]\n",
    "\n"
   ]
  },
  {
   "cell_type": "markdown",
   "metadata": {},
   "source": [
    "Vérifions maintenant avec du code.\n",
    "L'idée est d'appliquer la fonction de la librairie Numpy: ```linalg.eig``` sur la matrice de correlation $X^T X$ et d'afficher les sorties pour les comprendre."
   ]
  },
  {
   "cell_type": "code",
   "execution_count": 32,
   "metadata": {},
   "outputs": [
    {
     "data": {
      "text/plain": [
       "array([[1, 2, 3],\n",
       "       [4, 5, 6],\n",
       "       [1, 0, 0]])"
      ]
     },
     "execution_count": 32,
     "metadata": {},
     "output_type": "execute_result"
    }
   ],
   "source": [
    "# Avant cela : \n",
    "# petit rappel sur les matrices:\n",
    "M = np.array([[1,2,3],[4,5,6], [1, 0, 0]])\n",
    "M"
   ]
  },
  {
   "cell_type": "code",
   "execution_count": 33,
   "metadata": {},
   "outputs": [
    {
     "data": {
      "text/plain": [
       "array([[1, 4, 1],\n",
       "       [2, 5, 0],\n",
       "       [3, 6, 0]])"
      ]
     },
     "execution_count": 33,
     "metadata": {},
     "output_type": "execute_result"
    }
   ],
   "source": [
    "# Transposée de M:\n",
    "M.T"
   ]
  },
  {
   "cell_type": "code",
   "execution_count": 34,
   "metadata": {},
   "outputs": [
    {
     "data": {
      "text/plain": [
       "array([[18, 22, 27],\n",
       "       [22, 29, 36],\n",
       "       [27, 36, 45]])"
      ]
     },
     "execution_count": 34,
     "metadata": {},
     "output_type": "execute_result"
    }
   ],
   "source": [
    "# Produit de matrices:\n",
    "M.T @ M"
   ]
  },
  {
   "cell_type": "markdown",
   "metadata": {},
   "source": [
    "<font color=\"RED\" size=\"+1\"><b>[Q]</b></font> Refaire les calculs précédents à la main, sur une feuille !"
   ]
  },
  {
   "cell_type": "code",
   "execution_count": 35,
   "metadata": {},
   "outputs": [
    {
     "name": "stdout",
     "output_type": "stream",
     "text": [
      "1er valeur rendue:\n",
      " [187.39293175 530.10654865]\n",
      "2e valeur rendue :\n",
      " [[-0.75682772 -0.65361441]\n",
      " [ 0.65361441 -0.75682772]]\n"
     ]
    }
   ],
   "source": [
    "# Donner les instructions pour récupérer les valeurs propres et vecteurs propres de la \n",
    "# matrice X générée précédeemment, puis les afficher:\n",
    "\n",
    "\n",
    "# Décommenter et compléter la ligne suivante: \n",
    "A = X.T @ X\n",
    "lam, V = np.linalg.eig(A)\n",
    "\n",
    "# ###################################\n",
    "\n",
    "print(\"1er valeur rendue:\\n\", lam)\n",
    "print(\"2e valeur rendue :\\n\", V)"
   ]
  },
  {
   "cell_type": "code",
   "execution_count": 36,
   "metadata": {},
   "outputs": [
    {
     "data": {
      "text/plain": [
       "<matplotlib.legend.Legend at 0x1768cc1f400>"
      ]
     },
     "execution_count": 36,
     "metadata": {},
     "output_type": "execute_result"
    },
    {
     "data": {
      "image/png": "[encoded data removed]",
      "text/plain": [
       "<Figure size 432x288 with 1 Axes>"
      ]
     },
     "metadata": {
      "needs_background": "light"
     },
     "output_type": "display_data"
    }
   ],
   "source": [
    "# tracer les vecteurs propres, à partir de (0,0) sur le scatter des points (X,Y)\n",
    "# A l'aide de la commande plt.text, vous pouvez rajouter la \"force\" des axes si vous voulez\n",
    "\n",
    "plt.figure()\n",
    "plt.grid('on')\n",
    "plt.scatter(X[Y==1,0],X[Y==1,1])\n",
    "plt.scatter(X[Y==-1,0],X[Y==-1,1])\n",
    "\n",
    "# A COMPLETER \n",
    "plt.arrow(0,0,V[0][0],V[0][1])\n",
    "plt.text(V[0][0],V[0][1], round(lam[0],3))\n",
    "\n",
    "plt.arrow(0,0,V[1][0],V[1][1])\n",
    "plt.text(V[1][0],V[1][1], round(lam[1],3))\n",
    "\n",
    "# ###################################\n",
    "\n",
    "# Décommenter la ligne suivante pour avoir la légende :\n",
    "plt.legend([\"cl1\", \"cl2\",\"axe 1\"+str(V[:,0]),\"axe 2\"+str(V[:,1])])\n",
    "\n",
    "\n",
    "# Si vous voulez sauvegarder l'image : \n",
    "#plt.savefig(\"out/acp.png\",bbox_inches='tight', transparent=True,pad_inches=0)\n",
    "\n"
   ]
  },
  {
   "cell_type": "code",
   "execution_count": 37,
   "metadata": {},
   "outputs": [
    {
     "data": {
      "text/plain": [
       "[<matplotlib.lines.Line2D at 0x1768cc8dc00>]"
      ]
     },
     "execution_count": 37,
     "metadata": {},
     "output_type": "execute_result"
    },
    {
     "data": {
      "image/png": "[encoded data removed]",
      "text/plain": [
       "<Figure size 432x288 with 1 Axes>"
      ]
     },
     "metadata": {
      "needs_background": "light"
     },
     "output_type": "display_data"
    }
   ],
   "source": [
    "# tracer les vecteurs propres, à partir de (0,0) sur le scatter des points (X,Y)\n",
    "# A l'aide de la commande plt.text, vous pouvez rajouter la \"force\" des axes si vous voulez\n",
    "\n",
    "plt.figure()\n",
    "plt.grid('on')\n",
    "plt.scatter(X[Y==1,0],X[Y==1,1])\n",
    "plt.scatter(X[Y==-1,0],X[Y==-1,1])\n",
    "\n",
    "# A COMPLETER \n",
    "plt.plot([0, V[0][0]], [0,V[0][1]])\n",
    "plt.plot([0, V[1][0]], [0,V[1][1]])\n",
    "# ###################################\n",
    "\n",
    "# Décommenter la ligne suivante pour avoir la légende :\n",
    "#plt.legend([\"cl1\", \"cl2\",\"axe 1\"+str(V[:,0]),\"axe 2\"+str(V[:,1])])\n",
    "\n",
    "\n",
    "# Si vous voulez sauvegarder l'image : \n",
    "#plt.savefig(\"out/acp.png\",bbox_inches='tight', transparent=True,pad_inches=0)"
   ]
  },
  {
   "cell_type": "markdown",
   "metadata": {},
   "source": [
    "On voit bien la principale direction de variance (associée à la plus grande valeur propre)"
   ]
  },
  {
   "cell_type": "markdown",
   "metadata": {},
   "source": [
    "## Réduction de données 2D => 1D\n",
    "\n",
    "Dans une logique de réduction de dimensionnalité, on souhaite:\n",
    "1. extraire automatiquement le vecteur propre associé à la plus grande valeur propre\n",
    "1. projeter les données sur cet axe\n",
    "1. afficher le plot 1D des données suivant:\n",
    "    - x = nouvelle coordonée (unique) du point\n",
    "    - y = étiquette\n",
    "\n",
    "Cet affichage va nous permettre de comprendre ce que nous venons de faire."
   ]
  },
  {
   "cell_type": "markdown",
   "metadata": {},
   "source": [
    "<font color=\"RED\" size=\"+1\"><b>[Q]</b></font> Donner les instructions qui réalisent les 3 étapes données ci-dessus.\n"
   ]
  },
  {
   "cell_type": "code",
   "execution_count": 38,
   "metadata": {},
   "outputs": [
    {
     "name": "stdout",
     "output_type": "stream",
     "text": [
      "le nombre de valeurs propres : 2\n",
      "Dimension de l'ensemble de départ :  2\n",
      "Dimension de l'ensemble après transformation :  1\n"
     ]
    },
    {
     "data": {
      "text/plain": [
       "<Figure size 432x288 with 0 Axes>"
      ]
     },
     "metadata": {},
     "output_type": "display_data"
    },
    {
     "data": {
      "image/png": "[encoded data removed]",
      "text/plain": [
       "<Figure size 432x288 with 1 Axes>"
      ]
     },
     "metadata": {
      "needs_background": "light"
     },
     "output_type": "display_data"
    }
   ],
   "source": [
    "import math\n",
    "\n",
    "plt.figure()\n",
    "\n",
    "# A C\n",
    "A = X.T @ X\n",
    "lam, V = np.linalg.eig(A)\n",
    "\n",
    "# 2) affichage (print)\n",
    "print(\"le nombre de valeurs propres : {}\".format(len(lam)))\n",
    "# 3) tri et sélection des 2 vecteurs associés aux 2 plus grandes valeurs propres \n",
    "\n",
    "sorted_index = np.argsort(lam)[::-1]\n",
    "sorted_eigenvalue = lam[sorted_index]\n",
    "sorted_eigenvectors = V[:,sorted_index]\n",
    "\n",
    "eigenvector_subset = sorted_eigenvectors[:,0:1]\n",
    "\n",
    "Xr = np.dot(eigenvector_subset.transpose() , X.transpose() ).transpose()\n",
    "\n",
    "print(\"Dimension de l'ensemble de départ : \",X.shape[1])\n",
    "print(\"Dimension de l'ensemble après transformation : \",Xr.shape[1])\n",
    "\n",
    "plt.figure()\n",
    "plt.grid('on')\n",
    "plt.scatter(Xr[Y==1,0],Y[Y==1])\n",
    "plt.scatter(Xr[Y==-1,0],Y[Y==-1])\n",
    "# ###################################\n",
    "plt.grid()\n",
    "\n",
    "#plt.savefig(\"out/proj_1D.png\",bbox_inches='tight', transparent=True,pad_inches=0)\n"
   ]
  },
  {
   "cell_type": "markdown",
   "metadata": {},
   "source": [
    "Pour mieux comprendre ce qui se passe, je vous propose la figure explicative suivante qui illustre ce que vous avez fait du point de vue géométrique:\n",
    "<img src=\"ressources/proj_2D.png\" width=300px>\n",
    "\n",
    "\n",
    "(si l'image ne s'affiche pas, aller la voir dans le répertoire `ressources/`, c'est l'image `proj_2D.png`.\n",
    "\n",
    "**Note:** cette dernière figure est non-triviale à obtenir, il ne faut pas perdre du temps en TP à chercher comment faire :)"
   ]
  },
  {
   "cell_type": "markdown",
   "metadata": {},
   "source": [
    "## Réduction de données d-D => 2D\n",
    "\n",
    "Passons maintenant sur les données USPS pour essayer de reproduire les figures du cours 5."
   ]
  },
  {
   "cell_type": "code",
   "execution_count": 39,
   "metadata": {},
   "outputs": [],
   "source": [
    "# Important de pickle pour récupérer les données\n",
    "import pickle as pkl\n",
    "\n",
    "# Chargement des données USPS :\n",
    "\n",
    "# **** IMPORTANT ****\n",
    "# faire un lien vers le fichier usps.pkl qui a été fournie dans les TME précédents (répertoire ressources)\n",
    "# dans un sous-répertoire ressources du répertoire où se trouve ce notebook.\n",
    "# Ou bien : modifier dans open() pour mettre le bon chemin d'accès vers usps.pkl sur votre compte.\n",
    "\n",
    "data = pkl.load(open('ressources/usps.pkl', 'rb'))\n",
    "Xu = np.array(data['X_train'], dtype=float) # conversion de type pour une meilleure compatibilité\n",
    "Yu = np.array(data['Y_train'], dtype=float)\n",
    "XTu = np.array(data['X_test'], dtype=float) # conversion de type pour une meilleure compatibilité\n",
    "YTu = np.array(data['Y_test'], dtype=float)\n"
   ]
  },
  {
   "cell_type": "markdown",
   "metadata": {},
   "source": [
    "<font color=\"RED\" size=\"+1\"><b>[Q]</b></font> Donner les instructions qui réalisent les 3 étapes suivantes:\n",
    "\n",
    "1. Extraire automatiquement les 2 vecteurs propres associés aux 2 plus grandes valeurs propres sur les données USPS\n",
    "1. Projeter les données sur ces axes\n",
    "    - projeter toutes les données\n",
    "    - projeter seulement les 200 premières images (pour mieux voir)\n",
    "1. Afficher avec un code couleur correspondant aux classes\n",
    "\n",
    "Cet affichage va nous permettre de comprendre ce que nous venons de faire."
   ]
  },
  {
   "cell_type": "code",
   "execution_count": 40,
   "metadata": {
    "scrolled": true
   },
   "outputs": [
    {
     "name": "stdout",
     "output_type": "stream",
     "text": [
      "le nombre de valeurs propres : 256\n",
      "(256,)\n",
      "Dimension de l'ensemble de départ :  256\n"
     ]
    },
    {
     "ename": "NameError",
     "evalue": "name 'X_reduced' is not defined",
     "output_type": "error",
     "traceback": [
      "\u001b[1;31m---------------------------------------------------------------------------\u001b[0m",
      "\u001b[1;31mNameError\u001b[0m                                 Traceback (most recent call last)",
      "Input \u001b[1;32mIn [40]\u001b[0m, in \u001b[0;36m<module>\u001b[1;34m\u001b[0m\n\u001b[0;32m     17\u001b[0m Xr \u001b[38;5;241m=\u001b[39m np\u001b[38;5;241m.\u001b[39mdot(eigenvector_subset\u001b[38;5;241m.\u001b[39mtranspose() , Xu\u001b[38;5;241m.\u001b[39mtranspose() )\u001b[38;5;241m.\u001b[39mtranspose()\n\u001b[0;32m     19\u001b[0m \u001b[38;5;28mprint\u001b[39m(\u001b[38;5;124m\"\u001b[39m\u001b[38;5;124mDimension de l\u001b[39m\u001b[38;5;124m'\u001b[39m\u001b[38;5;124mensemble de départ : \u001b[39m\u001b[38;5;124m\"\u001b[39m,Xu\u001b[38;5;241m.\u001b[39mshape[\u001b[38;5;241m1\u001b[39m])\n\u001b[1;32m---> 20\u001b[0m \u001b[38;5;28mprint\u001b[39m(\u001b[38;5;124m\"\u001b[39m\u001b[38;5;124mDimension de l\u001b[39m\u001b[38;5;124m'\u001b[39m\u001b[38;5;124mensemble après transformation : \u001b[39m\u001b[38;5;124m\"\u001b[39m,\u001b[43mX_reduced\u001b[49m\u001b[38;5;241m.\u001b[39mshape[\u001b[38;5;241m1\u001b[39m])\n\u001b[0;32m     22\u001b[0m \u001b[38;5;66;03m# 4) affichage (plot) avec un code couleur pour les classes\u001b[39;00m\n\u001b[0;32m     24\u001b[0m plt\u001b[38;5;241m.\u001b[39mfigure()\n",
      "\u001b[1;31mNameError\u001b[0m: name 'X_reduced' is not defined"
     ]
    }
   ],
   "source": [
    "# A réaliser :\n",
    "\n",
    "# 1) calcul des vecteurs propres\n",
    "A = Xu.T @ Xu\n",
    "lam, V = np.linalg.eig(A)\n",
    "\n",
    "# 2) affichage (print)\n",
    "print(\"le nombre de valeurs propres : {}\".format(len(lam)))\n",
    "# 3) tri et sélection des 2 vecteurs associés aux 2 plus grandes valeurs propres \n",
    "\n",
    "sorted_index = np.argsort(lam)[::-1]\n",
    "sorted_eigenvalue = lam[sorted_index]\n",
    "sorted_eigenvectors = V[:,sorted_index]\n",
    "print(V[0].shape)\n",
    "eigenvector_subset = sorted_eigenvectors[:,0:2]\n",
    "\n",
    "Xr = np.dot(eigenvector_subset.transpose() , Xu.transpose() ).transpose()\n",
    "\n",
    "print(\"Dimension de l'ensemble de départ : \",Xu.shape[1])\n",
    "print(\"Dimension de l'ensemble après transformation : \",X_reduced.shape[1])\n",
    "\n",
    "# 4) affichage (plot) avec un code couleur pour les classes\n",
    "\n",
    "plt.figure()\n",
    "plt.scatter(Xr[Yu==0,0],Xr[Yu==0,1])\n",
    "plt.scatter(Xr[Yu==1,0],Xr[Yu==1,1])\n",
    "plt.scatter(Xr[Yu==2,0],Xr[Yu==2,1])\n",
    "plt.scatter(Xr[Yu==3,0],Xr[Yu==3,1])\n",
    "plt.scatter(Xr[Yu==4,0],Xr[Yu==4,1])\n",
    "plt.scatter(Xr[Yu==5,0],Xr[Yu==5,1])\n",
    "plt.scatter(Xr[Yu==6,0],Xr[Yu==6,1])\n",
    "plt.scatter(Xr[Yu==7,0],Xr[Yu==7,1])\n",
    "plt.scatter(Xr[Yu==8,0],Xr[Yu==8,1])\n",
    "plt.scatter(Xr[Yu==9,0],Xr[Yu==9,1])\n",
    "# ####################################\n",
    "plt.legend(np.arange(10))\n",
    "\n",
    "#plt.savefig(\"out/proj_usps_all.png\",bbox_inches='tight', transparent=True,pad_inches=0)"
   ]
  },
  {
   "cell_type": "code",
   "execution_count": 41,
   "metadata": {},
   "outputs": [
    {
     "data": {
      "text/plain": [
       "<matplotlib.legend.Legend at 0x1768cb4eb90>"
      ]
     },
     "execution_count": 41,
     "metadata": {},
     "output_type": "execute_result"
    },
    {
     "data": {
      "image/png": "[encoded data removed]",
      "text/plain": [
       "<Figure size 432x288 with 1 Axes>"
      ]
     },
     "metadata": {
      "needs_background": "light"
     },
     "output_type": "display_data"
    }
   ],
   "source": [
    "# Affichae des 200 premieres valeurs\n",
    "plt.figure()\n",
    "Xh = Xr[:200,:]\n",
    "Yh = Yu[:200]\n",
    "plt.scatter(Xh[Yh==0,0],Xh[Yh==0,1])\n",
    "plt.scatter(Xh[Yh==1,0],Xh[Yh==1,1])\n",
    "plt.scatter(Xh[Yh==2,0],Xh[Yh==2,1])\n",
    "plt.scatter(Xh[Yh==3,0],Xh[Yh==3,1])\n",
    "plt.scatter(Xh[Yh==4,0],Xh[Yh==4,1])\n",
    "plt.scatter(Xh[Yh==5,0],Xh[Yh==5,1])\n",
    "plt.scatter(Xh[Yh==6,0],Xh[Yh==6,1])\n",
    "plt.scatter(Xh[Yh==7,0],Xh[Yh==7,1])\n",
    "plt.scatter(Xh[Yh==8,0],Xh[Yh==8,1])\n",
    "plt.scatter(Xh[Yh==9,0],Xh[Yh==9,1])\n",
    "# ####################################\n",
    "plt.legend(np.arange(10))"
   ]
  },
  {
   "cell_type": "markdown",
   "metadata": {},
   "source": [
    "On a l'impression que les 0 et 1 sont bien séparés des autres classes... Le reste est un peu confus mais on voit que:\n",
    "- les 8 et les 9 se ressemblent\n",
    "- les 6 et les 3 dans une moindre mesure\n",
    "- les 7 et les 4 un peu aussi\n",
    "- les 2 sont en plein milieu"
   ]
  },
  {
   "cell_type": "markdown",
   "metadata": {},
   "source": [
    "## Interprétation des vecteurs propres\n",
    "\n",
    "Chacun de nos 2 axes contient beaucoup d'informations... Mais lesquelles?\n",
    "Ces axes sont en 256 dimensions, il est possible de les tracer comme une image. L'idée est de distinguer les dimensions positives et les dimensions négatives.\n",
    "On ne va pas reconstruire une échelle de couleur propre... Mais on peut a minima afficher l'échelle.\n",
    "\n",
    "Le code est fourni ci-dessous.\n",
    "\n",
    "<table border=\"0\">\n",
    " <tr>\n",
    "    <td><img src=\"ressources/vp_0.png\"></td>\n",
    "    <td><img src=\"ressources/vp_1.png\"></td>\n",
    " </tr>\n",
    "</table>\n",
    "\n",
    "Le premier axe est sensible aux pixels allumés en haut et en bas: sur le premier axe de la figure de la boite précédente, on remarque que les chiffres les plus à droite sont le 0 et le 3... Ca colle.\n",
    "\n",
    "Le second axe est sensible aux pixels à gauche et à droite (en positif) et aux pixels du centre (en négatif). On a bien les 0 en haut et les 1 en bas de ce second axe."
   ]
  },
  {
   "cell_type": "code",
   "execution_count": 42,
   "metadata": {},
   "outputs": [
    {
     "ename": "NameError",
     "evalue": "name 'vp' is not defined",
     "output_type": "error",
     "traceback": [
      "\u001b[1;31m---------------------------------------------------------------------------\u001b[0m",
      "\u001b[1;31mNameError\u001b[0m                                 Traceback (most recent call last)",
      "Input \u001b[1;32mIn [42]\u001b[0m, in \u001b[0;36m<module>\u001b[1;34m\u001b[0m\n\u001b[1;32m----> 1\u001b[0m \u001b[38;5;28;01mfor\u001b[39;00m i \u001b[38;5;129;01min\u001b[39;00m \u001b[38;5;28mrange\u001b[39m(\u001b[43mvp\u001b[49m\u001b[38;5;241m.\u001b[39mshape[\u001b[38;5;241m1\u001b[39m]):\n\u001b[0;32m      2\u001b[0m     plt\u001b[38;5;241m.\u001b[39mfigure()\n\u001b[0;32m      3\u001b[0m     plt\u001b[38;5;241m.\u001b[39mimshow(vp[:,i]\u001b[38;5;241m.\u001b[39mreshape(\u001b[38;5;241m16\u001b[39m,\u001b[38;5;241m16\u001b[39m),cmap\u001b[38;5;241m=\u001b[39m\u001b[38;5;124m'\u001b[39m\u001b[38;5;124mbwr\u001b[39m\u001b[38;5;124m'\u001b[39m)\n",
      "\u001b[1;31mNameError\u001b[0m: name 'vp' is not defined"
     ]
    }
   ],
   "source": [
    "for i in range(vp.shape[1]):\n",
    "    plt.figure()\n",
    "    plt.imshow(vp[:,i].reshape(16,16),cmap='bwr')\n",
    "    plt.colorbar()\n",
    "    #plt.savefig(\"out/vp_\"+str(i)+\".png\",bbox_inches='tight', transparent=True,pad_inches=0)"
   ]
  },
  {
   "cell_type": "markdown",
   "metadata": {},
   "source": [
    "## Vers un espace de représentation débruité\n",
    "\n",
    "Que se passe-t-il si on classe les points dans cet espace?\n",
    "En 2d, on voit qu'il n'y a pas assez de dimension... Mais on peut:\n",
    "\n",
    "1. Etudier les valeurs de toutes les valeurs propres (triées) pour voir combien sont importantes\n",
    "    - soit on trie et on affiche les valeurs\n",
    "    - soit on trace un histogramme des valeurs\n",
    "1. Choisir un nombre de vecteurs propres par rapport à l'expérience précédente... On se rend compte que ce n'est pas évident: peu de valeurs propres captent toute l'énergie. En tout état de cause, 20 valeurs propres semblent raisonnables\n",
    "1. Projeter les données d'apprentissage et de test\n",
    "1. Etudier le taux de bonne classification dans ce nouvel espace par rapport à l'espace d'origine"
   ]
  },
  {
   "cell_type": "code",
   "execution_count": 43,
   "metadata": {},
   "outputs": [
    {
     "data": {
      "text/plain": [
       "[<matplotlib.lines.Line2D at 0x1768c64a650>]"
      ]
     },
     "execution_count": 43,
     "metadata": {},
     "output_type": "execute_result"
    },
    {
     "data": {
      "image/png": "[encoded data removed]",
      "text/plain": [
       "<Figure size 432x288 with 1 Axes>"
      ]
     },
     "metadata": {
      "needs_background": "light"
     },
     "output_type": "display_data"
    }
   ],
   "source": [
    "# Etude des valeurs propres\n",
    "\n",
    "plt.figure()\n",
    "\n",
    "# Regarder les 2 types d'affichage en commentant/décommentant l'un après l'autre:\n",
    "\n",
    "# Affichage d'un histogramme: (Essayez différentes tailles d'histrogramme)\n",
    "#plt.hist(lam, 20)\n",
    "\n",
    "# Affichage des valeurs :\n",
    "plt.plot(lam)\n",
    "\n"
   ]
  },
  {
   "cell_type": "code",
   "execution_count": 46,
   "metadata": {},
   "outputs": [],
   "source": [
    "# réduction à 20 dimensions\n",
    "ndim = 20\n",
    "Xr = Xu @ V[:,:ndim]\n",
    "XTr = XTu @ V[:,:ndim]"
   ]
  },
  {
   "cell_type": "code",
   "execution_count": 47,
   "metadata": {},
   "outputs": [
    {
     "name": "stdout",
     "output_type": "stream",
     "text": [
      "Iteration 0\n",
      "Iteration 1\n",
      "Iteration 2\n",
      "Iteration 3\n",
      "Iteration 4\n",
      "Iteration 5\n",
      "Iteration 6\n",
      "Iteration 7\n",
      "Iteration 8\n",
      "Iteration 9\n",
      "Perfs : 0.8753, 0.8641, en 30.45 secondes\n"
     ]
    }
   ],
   "source": [
    "import time    # pour évaluer les temps d'exécution\n",
    "\n",
    "# Exemple d'utilisation:\n",
    "np.random.seed(42)   # on prend 42 comme graine\n",
    "\n",
    "# Apprentissage d'un perceptron multiclasses\n",
    "\n",
    "cl_reduit = classif.ClassifierPerceptron(ndim, 1e-3)\n",
    "clmulti_reduit = classif.PerceptronMultiOOA(ndim,1e-3, 10)\n",
    "\n",
    "tic = time.time()  # On lance le chrono\n",
    "clmulti_reduit.train(Xr, Yu)\n",
    "toc = time.time()  # On arrête le chrono\n",
    "\n",
    "perf_A = clmulti_reduit.accuracy(Xr, Yu)\n",
    "perf_T = clmulti_reduit.accuracy(XTr, YTu)\n",
    "\n",
    "print(f\"Perfs : {perf_A:.4}, {perf_T:.4}, en {toc-tic:0.4} secondes\")\n"
   ]
  },
  {
   "cell_type": "code",
   "execution_count": 48,
   "metadata": {},
   "outputs": [
    {
     "ename": "AttributeError",
     "evalue": "module 'iads.Classifiers' has no attribute 'ClassifierMultiOAA'",
     "output_type": "error",
     "traceback": [
      "\u001b[1;31m---------------------------------------------------------------------------\u001b[0m",
      "\u001b[1;31mAttributeError\u001b[0m                            Traceback (most recent call last)",
      "Input \u001b[1;32mIn [48]\u001b[0m, in \u001b[0;36m<module>\u001b[1;34m\u001b[0m\n\u001b[0;32m      4\u001b[0m \u001b[38;5;66;03m# Comparer le résultat précédent avec le suivant:\u001b[39;00m\n\u001b[0;32m      5\u001b[0m \u001b[38;5;66;03m# Apprentissage d'un perceptron multiclasse dans l'espace d'origine\u001b[39;00m\n\u001b[0;32m      7\u001b[0m cl \u001b[38;5;241m=\u001b[39m classif\u001b[38;5;241m.\u001b[39mClassifierPerceptron(\u001b[38;5;241m256\u001b[39m, \u001b[38;5;241m1e-3\u001b[39m)\n\u001b[1;32m----> 8\u001b[0m clmulti \u001b[38;5;241m=\u001b[39m \u001b[43mclassif\u001b[49m\u001b[38;5;241;43m.\u001b[39;49m\u001b[43mClassifierMultiOAA\u001b[49m(cl)\n\u001b[0;32m     10\u001b[0m tic \u001b[38;5;241m=\u001b[39m time\u001b[38;5;241m.\u001b[39mtime()  \u001b[38;5;66;03m# On lance le chrono\u001b[39;00m\n\u001b[0;32m     11\u001b[0m clmulti\u001b[38;5;241m.\u001b[39mtrain(Xu, Yu)\n",
      "\u001b[1;31mAttributeError\u001b[0m: module 'iads.Classifiers' has no attribute 'ClassifierMultiOAA'"
     ]
    }
   ],
   "source": [
    "# Exemple d'utilisation:\n",
    "np.random.seed(42)   # on prend 42 comme graine\n",
    "\n",
    "# Comparer le résultat précédent avec le suivant:\n",
    "# Apprentissage d'un perceptron multiclasse dans l'espace d'origine\n",
    "\n",
    "cl = classif.ClassifierPerceptron(256, 1e-3)\n",
    "clmulti = classif.ClassifierMultiOAA(cl)\n",
    "\n",
    "tic = time.time()  # On lance le chrono\n",
    "clmulti.train(Xu, Yu)\n",
    "toc = time.time()  # On arrête le chrono\n",
    "\n",
    "perf_A = clmulti.accuracy(Xu, Yu)\n",
    "perf_T = clmulti.accuracy(XTu, YTu)\n",
    "\n",
    "print(f\"Perfs : {perf_A:.4}, {perf_T:.4}, en {toc-tic:0.4} secondes\")\n"
   ]
  },
  {
   "cell_type": "markdown",
   "metadata": {},
   "source": [
    "# Un nouveau classifieur : ADALINE et la minimisation des moindres carrés\n",
    "\n",
    "<div class=\"alert alert-block alert-info\">\n",
    "    \n",
    "Une fonction de coût très utilisée est la fonction des moindres carrés:\n",
    "$$ \\mathcal C = \\sum_{i=1}^N (f(\\mathbf x_i) - y_i)^2$$\n",
    "Il faut que $f(\\mathbf x_i)$ soit le plus proche possible de $y_i$ pour faire baisser ce coût.\n",
    "\n",
    "Dans le cas où $f$ est une fonction linéaire, on peut résoudre le problème de minimisation de la fonction de coût par une descente de gradient stochastique, un peu comme pour le perceptron:\n",
    "\n",
    "**Algorithme ADALINE:**\n",
    "1. Initialisation de $\\mathbf w$ aléatoire\n",
    "1. Boucle \n",
    "    1. Tirage d'un point $i$\n",
    "    1. Calcul du gradient $\\nabla_{\\mathbf w} \\mathcal C$ (cf ci-dessous)\n",
    "    1. $\\mathbf w \\leftarrow \\mathbf w - \\epsilon \\nabla_{\\mathbf w} \\mathcal C $\n",
    "    1. Test de convergence + sortie\n",
    "    \n",
    "Avec:\n",
    "$$\\nabla_{\\mathbf w} \\mathcal C = \\mathbf x_i^T (\\mathbf x_i \\mathbf w - y_i) \\in \\mathbb R^d $$\n",
    "\n",
    "</div>\n",
    "\n",
    "(remarque: $\\nabla$ est la notation pour le gradient de la fonction)"
   ]
  },
  {
   "cell_type": "markdown",
   "metadata": {},
   "source": [
    "<font color=\"RED\" size=\"+1\"><b>[Q]</b></font> Coder l'algorithme ADALINE et vérifier qu'il fonctionne bien sur des données jouet. Pour vous aider, nous vous donnons le squelette de la classe à créer dans la boîte suivante. Veuillez noter l'utilisation de `classif.Classifier` pour définir la classe mère de ce nouveau classifier.\n",
    "\n"
   ]
  },
  {
   "cell_type": "code",
   "execution_count": null,
   "metadata": {},
   "outputs": [],
   "source": [
    "# code de la classe pour le classifieur ADALINE\n",
    "\n",
    "\n",
    "# ATTENTION: contrairement à la classe ClassifierPerceptron, on n'utilise pas de méthode train_step()\n",
    "# dans ce classifier, tout se fera dans train()\n",
    "\n",
    "\n",
    "#TODO: Classe à Compléter\n",
    "\n",
    "class ClassifierADALINE(classif.Classifier):\n",
    "    \"\"\" Perceptron de ADALINE\n",
    "    \"\"\"\n",
    "    def __init__(self, input_dimension, learning_rate, history=False, niter_max=1000):\n",
    "        \"\"\" Constructeur de Classifier\n",
    "            Argument:\n",
    "                - input_dimension (int) : dimension de la description des exemples\n",
    "                - learning_rate : epsilon\n",
    "                - history : stockage des poids w en cours d'apprentissage\n",
    "                - niter_max : borne sur les iterations\n",
    "            Hypothèse : input_dimension > 0\n",
    "        \"\"\"\n",
    "        self.input_dimension = input_dimension\n",
    "        self.learning_rate = learning_rate\n",
    "        self.niter_max = niter_max\n",
    "        self.history = history\n",
    "        self.allw = []\n",
    "        # Initialisation de w aléatoire\n",
    "        v = np.random.uniform(0, 1, input_dimension)\n",
    "        v = (2*v - 1)*0.001\n",
    "        self.w = v.copy()\n",
    "        self.allw.append(self.w)\n",
    "        #raise NotImplementedError(\"Please Implement this method\")\n",
    "        \n",
    "    def train(self, desc_set, label_set):\n",
    "        \"\"\" Permet d'entrainer le modele sur l'ensemble donné\n",
    "            réalise une itération sur l'ensemble des données prises aléatoirement\n",
    "            desc_set: ndarray avec des descriptions\n",
    "            label_set: ndarray avec les labels correspondants\n",
    "            Hypothèse: desc_set et label_set ont le même nombre de lignes\n",
    "        \"\"\"\n",
    "        seuil=0.01\n",
    "        for k in range(self.niter_max):\n",
    "            index_list =[i for i in range(len(desc_set))]\n",
    "            np.random.shuffle(index_list)\n",
    "            for i in (index_list):\n",
    "                Xi = desc_set[i,:]\n",
    "                Yi = label_set[i]\n",
    "                grad = np.dot(Xi.T,np.dot(Xi,self.w)-Yi)\n",
    "                w0 = self.w.copy()\n",
    "                self.w -= self.learning_rate*grad\n",
    "                self.allw.append(self.w.copy())\n",
    "            difference = np.linalg.norm(w0-self.w)\n",
    "            if (difference<seuil):\n",
    "                break\n",
    "        #raise NotImplementedError(\"Please Implement this method\")\n",
    "    \n",
    "    def get_allw(self):\n",
    "        if self.history:\n",
    "            return self.allw\n",
    "        else:\n",
    "            return []\n",
    "    \n",
    "    def score(self,x):\n",
    "        \"\"\" rend le score de prédiction sur x (valeur réelle)\n",
    "            x: une description\n",
    "        \"\"\"\n",
    "        return np.vdot(self.w, x)\n",
    "        #raise NotImplementedError(\"Please Implement this method\")\n",
    "    \n",
    "    def predict(self, x):\n",
    "        \"\"\" rend la prediction sur x (soit -1 ou soit +1)\n",
    "            x: une description\n",
    "        \"\"\"\n",
    "        y_hat = self.score(x)\n",
    "        if (y_hat>0):\n",
    "            return 1\n",
    "        else:\n",
    "            return -1\n",
    "        #raise NotImplementedError(\"Please Implement this method\")"
   ]
  },
  {
   "cell_type": "markdown",
   "metadata": {},
   "source": [
    "**Remarque:** à partir de maintenant, nous ne vous donnerons plus le squelette du code pour écrire la classe correspondant à un classifieur."
   ]
  },
  {
   "cell_type": "markdown",
   "metadata": {},
   "source": [
    "<font color=\"RED\" size=\"+1\"><b>[Q]</b></font> Une fois que le code est fonctionnel, rajouter cette nouvelle classe dans ```Classifiers.py```. **Attention**: dans le fichier ```Classifiers.py```, il ne faudra plus utiliser `classif.` devant le nom de Classifier mais écrire:\n",
    "\n",
    "        class ClassifierADALINE(Classifier):\n",
    "        ...\n"
   ]
  },
  {
   "cell_type": "markdown",
   "metadata": {},
   "source": [
    "<font color=\"RED\" size=\"+1\"><b>[Q]</b></font> Vérifier que vous êtes capable de tracer l'évolution des poids du classifeur comme pour le perceptron."
   ]
  },
  {
   "cell_type": "code",
   "execution_count": null,
   "metadata": {},
   "outputs": [],
   "source": []
  },
  {
   "cell_type": "code",
   "execution_count": null,
   "metadata": {},
   "outputs": [],
   "source": [
    "# Test sur des données jouets\n",
    "adaline = ClassifierADALINE(2, 1e-2, history=True) \n",
    "# Rappel: une fois dans Classifier.py, pensez à préfixer par cl.\n",
    "\n",
    "# n'hésitez pas à jouer sur les paramètres\n",
    "# vous pouvez supprimer temporairement l'argument history s'il n'est pas implémenté dans votre version.\n",
    "# il faudra cependant l'ajouter avant de passer à la boite suivante\n",
    "\n",
    "tic= time.time()\n",
    "adaline.train(X, Y)\n",
    "toc= time.time()\n",
    "\n",
    "print(f\"Résultat en {(toc-tic):.4} secondes\")\n",
    "\n",
    "# Fonction du TME 4 nécessaire pour l'exécution suivante:\n",
    "def k_id(x): # fonction identité (juste pour être compatible avec les kernels ensuite)\n",
    "    return x\n",
    "\n",
    "ut.plot_frontiere_V3(X,Y, adaline.w, k_id, step=30, forme=1, fname=None)"
   ]
  },
  {
   "cell_type": "code",
   "execution_count": null,
   "metadata": {},
   "outputs": [],
   "source": [
    "def calculCout(X,Y, ensemble):\n",
    "    cost=[]\n",
    "    cost.clear()\n",
    "    for i in range(len(ensemble)):\n",
    "        w = ensemble[i].copy()\n",
    "        y_hat = np.dot(X,w)       # f(X)\n",
    "        a = (y_hat-Y)**2\n",
    "        cost.append(np.sum(a))\n",
    "    return np.asarray(cost)"
   ]
  },
  {
   "cell_type": "code",
   "execution_count": null,
   "metadata": {},
   "outputs": [],
   "source": [
    "# Visualisation de la descente de gradient\n",
    "\n",
    "allw = np.array(adaline.allw)\n",
    "\n",
    "# construction d'une grille de 'toutes' les valeurs possibles de w\n",
    "mmax=allw.max(0)\n",
    "mmin=allw.min(0)\n",
    "x1grid,x2grid=np.meshgrid(np.linspace(mmin[0],mmax[0],30),np.linspace(mmin[1],mmax[1],30))\n",
    "grid=np.hstack((x1grid.reshape(x1grid.size,1),x2grid.reshape(x2grid.size,1)))\n",
    "\n",
    "# evaluation du cout pour toutes ces solutions potentielles\n",
    "\n",
    "##########\n",
    "# LIGNE A DECOMMENTER ET A COMPLETER:\n",
    "# construction de res = calcul du cout du perceptron pour tous les couples (w1,w2) définis dans grid\n",
    "\n",
    "res = calculCout(X,Y, grid)\n",
    "\n",
    "##########\n",
    "# remise en forme\n",
    "res=res.reshape(x1grid.shape) \n",
    "\n",
    "fig, ax = plt.subplots() # pour 1 et 2\n",
    "ax.set_xlabel('$w_1$')\n",
    "ax.set_ylabel('$w_2$')\n",
    "CS = ax.contour(x1grid,x2grid,res)\n",
    "ax.clabel(CS, inline=1, fontsize=10)\n",
    "\n",
    "# ajoute de la couleur: jaune = plus grande itération\n",
    "ax.scatter(allw[:,0], allw[:,1], c=np.arange(len(allw)))\n",
    "\n",
    "#plt.savefig(\"out/espace_param_MC.png\")"
   ]
  },
  {
   "cell_type": "markdown",
   "metadata": {},
   "source": [
    "## ADALINE analytique\n",
    "\n",
    "<div class=\"alert alert-block alert-info\">\n",
    "\n",
    "Contrairement au perceptron, il est possible de calculer une solution analytique pour ADALINE. En effet, on peut montrer que l'annulation du gradient correspond au problème suivant:\n",
    "\n",
    "$$ \\underbrace{X^T X}_{\\in \\mathbb R^{d \\times d}} \\ \\underbrace{\\mathbf w}_{\\in \\mathbb R^{d}} = \\underbrace{X^T Y}_{\\in \\mathbb R^{d}}$$\n",
    "\n",
    "La fonction ```np.linalg.solve``` permet justement de résoudre un tel système d'équations linéaires.\n",
    "\n",
    "1. Utiliser la documentation pour appliquer ```np.linalg.solve``` sur le problème qui nous intéresse et vérifier que la solution est bien intéressante.\n",
    "1. Ecrire la classe `ClassifierADALINE2` qui implémente le classifieur ADALINE utilisant cette approche pour calculer la solution analytique.\n",
    "1. Une fois fonctionnel, intégrer ce code dans le fichier ```Classifiers.py```\n",
    "    \n",
    "**Note:** cet algorithme n'est plus itératif, il n'y a plus de ```learning_rate``` ni d'itération max ou d'historique...\n",
    "    \n",
    "</div>"
   ]
  },
  {
   "cell_type": "code",
   "execution_count": null,
   "metadata": {},
   "outputs": [],
   "source": [
    "# code de la classe ADALINE Analytique\n",
    "\n",
    "#class ClassifierADALINE2(classif.Classifier):\n",
    "# ...... COMPLETER\n",
    "a = X.T@X\n",
    "b = X.T@Y\n",
    "w = np.linalg.solve(a,b)"
   ]
  },
  {
   "cell_type": "code",
   "execution_count": null,
   "metadata": {},
   "outputs": [],
   "source": [
    "class ClassifierADALINE2(classif.Classifier):\n",
    "    \"\"\" Perceptron de ADALINE2\n",
    "    \"\"\"\n",
    "    def __init__(self, input_dimension):\n",
    "        \"\"\" Constructeur de Classifier\n",
    "            Argument:\n",
    "                - input_dimension (int) : dimension de la description des exemples\n",
    "                - learning_rate : epsilon\n",
    "                - history : stockage des poids w en cours d'apprentissage\n",
    "                - niter_max : borne sur les iterations\n",
    "            Hypothèse : input_dimension > 0\n",
    "        \"\"\"\n",
    "        self.input_dimension = input_dimension\n",
    "        #raise NotImplementedError(\"Please Implement this method\")\n",
    "        \n",
    "    def train(self, desc_set, label_set):\n",
    "        \"\"\" Permet d'entrainer le modele sur l'ensemble donné\n",
    "            réalise une itération sur l'ensemble des données prises aléatoirement\n",
    "            desc_set: ndarray avec des descriptions\n",
    "            label_set: ndarray avec les labels correspondants\n",
    "            Hypothèse: desc_set et label_set ont le même nombre de lignes\n",
    "        \"\"\"\n",
    "        # code de la classe ADALINE Analytique\n",
    "        la = 1e-5\n",
    "        a = desc_set.T@desc_set + la*np.eye(desc_set.shape[1])\n",
    "        b = desc_set.T@label_set\n",
    "        self.w = np.linalg.solve(a,b)\n",
    "        #raise NotImplementedError(\"Please Implement this method\")\n",
    "    \n",
    "    def get_allw(self):\n",
    "        if self.history:\n",
    "            return self.allw\n",
    "        else:\n",
    "            return []\n",
    "    \n",
    "    def score(self,x):\n",
    "        \"\"\" rend le score de prédiction sur x (valeur réelle)\n",
    "            x: une description\n",
    "        \"\"\"\n",
    "        return np.vdot(self.w, x)\n",
    "        #raise NotImplementedError(\"Please Implement this method\")\n",
    "    \n",
    "    def predict(self, x):\n",
    "        \"\"\" rend la prediction sur x (soit -1 ou soit +1)\n",
    "            x: une description\n",
    "        \"\"\"\n",
    "        y_hat = self.score(x)\n",
    "        if (y_hat>0):\n",
    "            return 1\n",
    "        else:\n",
    "            return -1\n",
    "        #raise NotImplementedError(\"Please Implement this method\")"
   ]
  },
  {
   "cell_type": "code",
   "execution_count": null,
   "metadata": {},
   "outputs": [],
   "source": [
    "# reTest sur des données jouets\n",
    "adaline2 = classif.ClassifierADALINE2(2) \n",
    "\n",
    "# n'hésitez pas à jouer sur les paramètres\n",
    "# vous pouvez supprimer temporairement l'argument history s'il n'est pas implémenté dans votre version.\n",
    "# il faudra cependant l'ajouter avant de passer à la boite suivante\n",
    "\n",
    "tic= time.time()\n",
    "adaline2.train(X, Y)\n",
    "toc= time.time()\n",
    "\n",
    "print(f\"Résultat en {(toc-tic):.4} secondes\")\n",
    "ut.plot_frontiere_V3(X,Y, adaline2.w, k_id, step=30, forme=1, fname=None)\n",
    "\n",
    "# Comparer le résultat avec celui obtenu avec adaline."
   ]
  },
  {
   "cell_type": "markdown",
   "metadata": {},
   "source": [
    "# Arbres de décision"
   ]
  },
  {
   "cell_type": "code",
   "execution_count": 54,
   "metadata": {},
   "outputs": [
    {
     "data": {
      "text/html": [
       "<div>\n",
       "<style scoped>\n",
       "    .dataframe tbody tr th:only-of-type {\n",
       "        vertical-align: middle;\n",
       "    }\n",
       "\n",
       "    .dataframe tbody tr th {\n",
       "        vertical-align: top;\n",
       "    }\n",
       "\n",
       "    .dataframe thead th {\n",
       "        text-align: right;\n",
       "    }\n",
       "</style>\n",
       "<table border=\"1\" class=\"dataframe\">\n",
       "  <thead>\n",
       "    <tr style=\"text-align: right;\">\n",
       "      <th></th>\n",
       "      <th>temps</th>\n",
       "      <th>temperature</th>\n",
       "      <th>humidite</th>\n",
       "      <th>vent</th>\n",
       "      <th>jouer</th>\n",
       "    </tr>\n",
       "  </thead>\n",
       "  <tbody>\n",
       "    <tr>\n",
       "      <th>0</th>\n",
       "      <td>ensoleile</td>\n",
       "      <td>chaude</td>\n",
       "      <td>haute</td>\n",
       "      <td>non</td>\n",
       "      <td>non</td>\n",
       "    </tr>\n",
       "    <tr>\n",
       "      <th>1</th>\n",
       "      <td>ensoleile</td>\n",
       "      <td>chaude</td>\n",
       "      <td>haute</td>\n",
       "      <td>oui</td>\n",
       "      <td>non</td>\n",
       "    </tr>\n",
       "    <tr>\n",
       "      <th>2</th>\n",
       "      <td>nuageux</td>\n",
       "      <td>chaude</td>\n",
       "      <td>haute</td>\n",
       "      <td>non</td>\n",
       "      <td>oui</td>\n",
       "    </tr>\n",
       "    <tr>\n",
       "      <th>3</th>\n",
       "      <td>pluvieux</td>\n",
       "      <td>douce</td>\n",
       "      <td>haute</td>\n",
       "      <td>non</td>\n",
       "      <td>oui</td>\n",
       "    </tr>\n",
       "    <tr>\n",
       "      <th>4</th>\n",
       "      <td>pluvieux</td>\n",
       "      <td>fraîche</td>\n",
       "      <td>normale</td>\n",
       "      <td>non</td>\n",
       "      <td>oui</td>\n",
       "    </tr>\n",
       "  </tbody>\n",
       "</table>\n",
       "</div>"
      ],
      "text/plain": [
       "       temps temperature humidite vent jouer\n",
       "0  ensoleile      chaude    haute  non   non\n",
       "1  ensoleile      chaude    haute  oui   non\n",
       "2    nuageux      chaude    haute  non   oui\n",
       "3   pluvieux       douce    haute  non   oui\n",
       "4   pluvieux     fraîche  normale  non   oui"
      ]
     },
     "execution_count": 54,
     "metadata": {},
     "output_type": "execute_result"
    }
   ],
   "source": [
    "import pandas\n",
    "#lire le fichier csv\n",
    "data = pd.read_csv(\"./jouer0.csv\")\n",
    "data.head()"
   ]
  },
  {
   "cell_type": "code",
   "execution_count": 60,
   "metadata": {},
   "outputs": [],
   "source": [
    "# séparer les données en: entrées et sorties\n",
    "X = data.iloc[:,:-1] #les caractéristiques\n",
    "y = data.iloc[:,-1]  #les résulats (classes)"
   ]
  },
  {
   "cell_type": "code",
   "execution_count": 68,
   "metadata": {},
   "outputs": [
    {
     "name": "stdout",
     "output_type": "stream",
     "text": [
      "   temps_ensoleile  temps_nuageux  temps_pluvieux  temperature_chaude  \\\n",
      "0                1              0               0                   1   \n",
      "1                1              0               0                   1   \n",
      "2                0              1               0                   1   \n",
      "3                0              0               1                   0   \n",
      "4                0              0               1                   0   \n",
      "\n",
      "   temperature_douce  temperature_fraîche  humidite_haute  humidite_normale  \\\n",
      "0                  0                    0               1                 0   \n",
      "1                  0                    0               1                 0   \n",
      "2                  0                    0               1                 0   \n",
      "3                  1                    0               1                 0   \n",
      "4                  0                    1               0                 1   \n",
      "\n",
      "   vent_non  vent_oui  \n",
      "0         1         0  \n",
      "1         0         1  \n",
      "2         1         0  \n",
      "3         1         0  \n",
      "4         1         0  \n"
     ]
    }
   ],
   "source": [
    "X_dum = pandas.get_dummies(X)\n",
    "print(X_dum.head())"
   ]
  },
  {
   "cell_type": "code",
   "execution_count": null,
   "metadata": {},
   "outputs": [],
   "source": [
    "from sklearn.tree import DecisionTreeClassifier\n",
    "\n",
    "# créer un estimateur\n",
    "estimator = DecisionTreeClassifier()\n",
    "# entrainer l'estimateur\n",
    "estimator.fit(X_dum, y)"
   ]
  },
  {
   "cell_type": "markdown",
   "metadata": {},
   "source": [
    "## Expérimentations "
   ]
  },
  {
   "cell_type": "markdown",
   "metadata": {},
   "source": [
    "\n",
    "<font color=\"RED\" size=\"+1\"><b>[Q]</b></font> Proposer un ensemble d'expérimentations sur les données USPS (en choisissant 2 classes pour en faire un problème de classification binaire) afin de comparer les 3 classifiers `ClassifierPerceptron`, `ClassifierPerceptronBiais` et `ClassifierAdaline`.\n",
    "\n",
    "Remarque: une bonne comparaison étudie différents aspects: accuracy train/test, variance de l'accuracy, mais aussi vitesse de convergence de l'algorithme."
   ]
  },
  {
   "cell_type": "code",
   "execution_count": 142,
   "metadata": {},
   "outputs": [
    {
     "name": "stderr",
     "output_type": "stream",
     "text": [
      "[autoreload of iads.Classifiers failed: Traceback (most recent call last):\n",
      "  File \"C:\\Users\\PC\\AppData\\Local\\Programs\\Python\\Python310\\lib\\site-packages\\IPython\\extensions\\autoreload.py\", line 257, in check\n",
      "    superreload(m, reload, self.old_objects)\n",
      "  File \"C:\\Users\\PC\\AppData\\Local\\Programs\\Python\\Python310\\lib\\site-packages\\IPython\\extensions\\autoreload.py\", line 455, in superreload\n",
      "    module = reload(module)\n",
      "  File \"C:\\Users\\PC\\AppData\\Local\\Programs\\Python\\Python310\\lib\\importlib\\__init__.py\", line 169, in reload\n",
      "    _bootstrap._exec(spec, module)\n",
      "  File \"<frozen importlib._bootstrap>\", line 619, in _exec\n",
      "  File \"<frozen importlib._bootstrap_external>\", line 883, in exec_module\n",
      "  File \"<frozen importlib._bootstrap>\", line 241, in _call_with_frames_removed\n",
      "  File \"C:\\Users\\PC\\Desktop\\Upmc\\S2\\data science\\tmes\\tme-05\\..\\iads\\Classifiers.py\", line 508, in <module>\n",
      "    class ClassifierADALINE(classif.Classifier):\n",
      "NameError: name 'classif' is not defined\n",
      "]\n"
     ]
    }
   ],
   "source": [
    "# Important de pickle pour récupérer les données\n",
    "import pickle as pkl\n",
    "\n",
    "# Chargement des données USPS :\n",
    "\n",
    "# **** IMPORTANT ****\n",
    "# faire un lien vers le fichier usps.pkl qui a été fournie dans les TME précédents (répertoire ressources)\n",
    "# dans un sous-répertoire ressources du répertoire où se trouve ce notebook.\n",
    "# Ou bien : modifier dans open() pour mettre le bon chemin d'accès vers usps.pkl sur votre compte.\n",
    "\n",
    "data = pkl.load(open('ressources/usps.pkl', 'rb'))\n",
    "Xu = np.array(data['X_train'], dtype=float) # conversion de type pour une meilleure compatibilité\n",
    "Yu = np.array(data['Y_train'], dtype=float)\n",
    "XTu = np.array(data['X_test'], dtype=float) # conversion de type pour une meilleure compatibilité\n",
    "YTu = np.array(data['Y_test'], dtype=float)"
   ]
  },
  {
   "cell_type": "code",
   "execution_count": 144,
   "metadata": {},
   "outputs": [
    {
     "name": "stdout",
     "output_type": "stream",
     "text": [
      "(1475, 256) (1475,)\n",
      "(723, 256) (723,)\n"
     ]
    }
   ],
   "source": [
    "#Réduction du jeu de données\n",
    "X12 = np.vstack((Xu[Yu==2],Xu[Yu==1]))\n",
    "# Y12 =  # encoder en -1/1 1:1 -1:2\n",
    "Y12 = np.asarray([-1 for i in range(len(Xu[Yu==1]))]+[1 for i in range(len(Xu[Yu==2]))])\n",
    "\n",
    "X12_t = np.vstack((XTu[YTu==2],XTu[YTu==1]))\n",
    "# Y12 =  # encoder en -1/1 1:1 -1:2\n",
    "Y12_t = np.asarray([-1 for i in range(len(XTu[YTu==1]))]+[1 for i in range(len(XTu[YTu==2]))])\n",
    "\n",
    "print(X12.shape, Y12.shape)\n",
    "print(X12_t.shape, Y12_t.shape)"
   ]
  },
  {
   "cell_type": "code",
   "execution_count": 157,
   "metadata": {},
   "outputs": [],
   "source": [
    "# Création d'un sous groupe de données\n",
    "c1 = 4  # ---> sera associée au label +1  \n",
    "c2 = 6  # ---> sera associée au label -1\n",
    "X12 = Xu[(Yu==c1) | (Yu==c2)]\n",
    "Y12 = np.where(Yu[(Yu==c1) | (Yu==c2)]==c1, 1, -1)\n",
    "\n",
    "index = np.random.permutation(len(Y12))\n",
    "Xm = X12[index]\n",
    "Ym = Y12[index]"
   ]
  },
  {
   "cell_type": "code",
   "execution_count": 160,
   "metadata": {},
   "outputs": [],
   "source": [
    "# Paramètres\n",
    "dim = 256\n",
    "eps = 1e-2"
   ]
  },
  {
   "cell_type": "markdown",
   "metadata": {},
   "source": [
    "## ClassifierPerceptron"
   ]
  },
  {
   "cell_type": "code",
   "execution_count": 175,
   "metadata": {},
   "outputs": [
    {
     "name": "stdout",
     "output_type": "stream",
     "text": [
      "Performance sur le Kfold 0 : 0.9819819819819819\n",
      "Performance sur le Kfold 1 : 1.0\n",
      "Performance sur le Kfold 2 : 0.990990990990991\n",
      "Performance sur le Kfold 3 : 0.990990990990991\n",
      "Performance sur le Kfold 4 : 0.9819819819819819\n",
      "Performance sur le Kfold 5 : 0.9819819819819819\n",
      "Performance sur le Kfold 6 : 0.990990990990991\n",
      "Performance sur le Kfold 7 : 0.9819819819819819\n",
      "Performance sur le Kfold 8 : 0.990990990990991\n",
      "Performance sur le Kfold 9 : 0.990990990990991\n",
      "---------------------\n",
      "Moyenne : 0.9882882882882882\n",
      "Résultat en 0.2059 secondes\n"
     ]
    }
   ],
   "source": [
    "niter = 10\n",
    "perf = []\n",
    "\n",
    "tic= time.time()\n",
    "for i in range(niter):\n",
    "    Xapp,Yapp,Xtest,Ytest = ut.crossval(Xm, Ym, niter, i)\n",
    "    perceptron = classif.ClassifierPerceptron(dim, eps)\n",
    "    perceptron.train(Xapp, Yapp)\n",
    "    perf.append(perceptron.accuracy(Xtest, Ytest))\n",
    "    print(\"Performance sur le Kfold {} : {}\".format(i, perf[i]))\n",
    "print(\"---------------------\\nMoyenne : {}\".format(np.mean(perf)))\n",
    "\n",
    "toc= time.time()\n",
    "print(f\"Résultat en {(toc-tic):.4} secondes\")"
   ]
  },
  {
   "cell_type": "markdown",
   "metadata": {},
   "source": [
    "## ClassifierPerceptronBiais"
   ]
  },
  {
   "cell_type": "code",
   "execution_count": 180,
   "metadata": {},
   "outputs": [
    {
     "name": "stdout",
     "output_type": "stream",
     "text": [
      "Performance sur le Kfold 0 : 0.9819819819819819\n",
      "Performance sur le Kfold 1 : 1.0\n",
      "Performance sur le Kfold 2 : 0.990990990990991\n",
      "Performance sur le Kfold 3 : 0.990990990990991\n",
      "Performance sur le Kfold 4 : 0.990990990990991\n",
      "Performance sur le Kfold 5 : 0.990990990990991\n",
      "Performance sur le Kfold 6 : 0.9819819819819819\n",
      "Performance sur le Kfold 7 : 0.990990990990991\n",
      "Performance sur le Kfold 8 : 0.9819819819819819\n",
      "Performance sur le Kfold 9 : 0.9819819819819819\n",
      "---------------------\n",
      "Moyenne : 0.9882882882882882\n",
      "Résultat en 0.3679 secondes\n"
     ]
    }
   ],
   "source": [
    "niter = 10\n",
    "perf = []\n",
    "tic = time.time()\n",
    "for i in range(niter):\n",
    "    Xapp,Yapp,Xtest,Ytest = ut.crossval(Xm, Ym, niter, i)\n",
    "    perceptron_biais = classif.ClassifierPerceptronBiais(dim, eps)\n",
    "    perceptron_biais.train(Xapp, Yapp)\n",
    "    perf.append(perceptron_biais.accuracy(Xtest, Ytest))\n",
    "    print(\"Performance sur le Kfold {} : {}\".format(i, perf[i]))\n",
    "print(\"---------------------\\nMoyenne : {}\".format(np.mean(perf)))\n",
    "\n",
    "toc= time.time()\n",
    "print(f\"Résultat en {(toc-tic):.4} secondes\")"
   ]
  },
  {
   "cell_type": "markdown",
   "metadata": {},
   "source": [
    "## ClassifierAdaline"
   ]
  },
  {
   "cell_type": "code",
   "execution_count": 177,
   "metadata": {},
   "outputs": [
    {
     "name": "stdout",
     "output_type": "stream",
     "text": [
      "Performance sur le Kfold 0 : 0.5135135135135135\n",
      "Performance sur le Kfold 1 : 0.5135135135135135\n",
      "Performance sur le Kfold 2 : 0.5675675675675675\n",
      "Performance sur le Kfold 3 : 0.5405405405405406\n",
      "Performance sur le Kfold 4 : 0.5585585585585585\n",
      "Performance sur le Kfold 5 : 0.4774774774774775\n",
      "Performance sur le Kfold 6 : 0.5585585585585585\n",
      "Performance sur le Kfold 7 : 0.5045045045045045\n",
      "Performance sur le Kfold 8 : 0.4594594594594595\n",
      "Performance sur le Kfold 9 : 0.42342342342342343\n",
      "---------------------\n",
      "Moyenne : 0.5117117117117117\n",
      "Résultat en 86.58 secondes\n"
     ]
    }
   ],
   "source": [
    "niter = 10\n",
    "perf = []\n",
    "tic = time.time()\n",
    "for i in range(niter):\n",
    "    Xapp,Yapp,Xtest,Ytest = ut.crossval(Xm, Ym, niter, i)\n",
    "    adaline = classif.ClassifierADALINE(dim, eps)\n",
    "    adaline.train(Xapp, Yapp)\n",
    "    perf.append(adaline.accuracy(Xtest, Ytest))\n",
    "    print(\"Performance sur le Kfold {} : {}\".format(i, perf[i]))\n",
    "print(\"---------------------\\nMoyenne : {}\".format(np.mean(perf)))\n",
    "toc= time.time()\n",
    "print(f\"Résultat en {(toc-tic):.4} secondes\")"
   ]
  },
  {
   "cell_type": "markdown",
   "metadata": {},
   "source": [
    "## ClassifierADALINE2"
   ]
  },
  {
   "cell_type": "code",
   "execution_count": 188,
   "metadata": {},
   "outputs": [
    {
     "name": "stdout",
     "output_type": "stream",
     "text": [
      "Performance sur le Kfold 0 : 0.972972972972973\n",
      "Performance sur le Kfold 1 : 1.0\n",
      "Performance sur le Kfold 2 : 0.990990990990991\n",
      "Performance sur le Kfold 3 : 0.9459459459459459\n",
      "Performance sur le Kfold 4 : 0.9819819819819819\n",
      "Performance sur le Kfold 5 : 0.9819819819819819\n",
      "Performance sur le Kfold 6 : 0.972972972972973\n",
      "Performance sur le Kfold 7 : 1.0\n",
      "Performance sur le Kfold 8 : 0.990990990990991\n",
      "Performance sur le Kfold 9 : 0.990990990990991\n",
      "---------------------\n",
      "Moyenne : 0.982882882882883\n",
      "Résultat en 0.05357 secondes\n"
     ]
    }
   ],
   "source": [
    "niter = 10\n",
    "perf = []\n",
    "tic = time.time()\n",
    "for i in range(niter):\n",
    "    Xapp,Yapp,Xtest,Ytest = ut.crossval(Xm, Ym, niter, i)\n",
    "    adaline2 = ClassifierADALINE2(dim)\n",
    "    adaline2.train(Xapp, Yapp)\n",
    "    perf.append(adaline2.accuracy(Xtest, Ytest))\n",
    "    print(\"Performance sur le Kfold {} : {}\".format(i, perf[i]))\n",
    "print(\"---------------------\\nMoyenne : {}\".format(np.mean(perf)))\n",
    "toc= time.time()\n",
    "print(f\"Résultat en {(toc-tic):.4} secondes\")"
   ]
  }
 ],
 "metadata": {
  "kernelspec": {
   "display_name": "Python 3 (ipykernel)",
   "language": "python",
   "name": "python3"
  },
  "language_info": {
   "codemirror_mode": {
    "name": "ipython",
    "version": 3
   },
   "file_extension": ".py",
   "mimetype": "text/x-python",
   "name": "python",
   "nbconvert_exporter": "python",
   "pygments_lexer": "ipython3",
   "version": "3.10.0"
  }
 },
 "nbformat": 4,
 "nbformat_minor": 1
}
