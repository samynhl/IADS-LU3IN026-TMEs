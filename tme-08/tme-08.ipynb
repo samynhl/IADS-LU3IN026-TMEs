{
 "cells": [
  {
   "cell_type": "markdown",
   "metadata": {},
   "source": [
    "IA & Data science (LU3IN0226) -- 2021-2022\n",
    "--------\n",
    "*&copy; Equipe pédagogique: Vincent Guigue, Christophe Marsala, Olivier Schwander.*"
   ]
  },
  {
   "cell_type": "markdown",
   "metadata": {},
   "source": [
    "# TD-TME08: méthodes d'ensembles\n",
    "\n",
    "L'objectif de ce notebook est d'implémenter des méthodes d'ensembles et de les évaluer. Dans un premier temps, on se focalisera sur l'algorithme de bagging appliqué aux arbres de décision, puis on passera au random forests.\n",
    "\n",
    "Dans un premier temps, on ne considére que le cas où les attributs sont tous numériques."
   ]
  },
  {
   "cell_type": "markdown",
   "metadata": {},
   "source": [
    "<font color=\"RED\" size=\"+1\">**[Q]**</font> **Indiquer dans la boîte ci-dessous vos noms et prénoms :**"
   ]
  },
  {
   "cell_type": "markdown",
   "metadata": {},
   "source": [
    "Samy NEHLIL 21113646"
   ]
  },
  {
   "cell_type": "markdown",
   "metadata": {},
   "source": [
    "<font color=\"RED\" size=\"+1\"><b>[Q]</b></font> **Renommer ce fichier ipython**\n",
    "\n",
    "Tout en haut de cette page, cliquer sur <tt>tme-08</tt> et rajouter à la suite de <tt>tme-08</tt> les noms des membres du binômes séparés par un tiret.\n",
    "\n",
    "<font color=\"RED\" size=\"+1\">IMPORTANT: soumission de votre fichier final</font>\n",
    "\n",
    "**Nom à donner au fichier à poster** : *tme-08-Nom1_Nom2.ipynb* \n",
    "- *Nom1* et *Nom2* : noms des membres du binôme\n",
    "- ne pas compresser ou faire une archive: il faut rendre le fichier ipython tel quel, éventuellement, si vous avez d'autres fichiers vous les rendez séparément.\n",
    "\n",
    "**Echancier pour la soumission de votre compte-rendu:**\n",
    "- le compte-rendu d'une séance doit être remis obligatoirement <font color=\"RED\">avant la séance suivante</font>.\n",
    "\n",
    "**Le compte-rendu est soumis sur la page Moodle.**"
   ]
  },
  {
   "cell_type": "code",
   "execution_count": 1,
   "metadata": {},
   "outputs": [],
   "source": [
    "# Importation des librairies standards:\n",
    "import numpy as np\n",
    "import pandas as pd\n",
    "import matplotlib.pyplot as plt\n",
    "import copy\n",
    "%matplotlib inline  \n",
    "\n",
    "# Importation de votre librairie iads:\n",
    "# La ligne suivante permet de préciser le chemin d'accès à la librairie iads\n",
    "import sys\n",
    "sys.path.append('../')   # iads doit être dans le répertoire frère du répertoire courant !\n",
    "\n",
    "# Importation de la librairie iads\n",
    "import iads as iads\n",
    "\n",
    "# importation de Classifiers\n",
    "from iads import Classifiers as cl\n",
    "\n",
    "# importation de utils\n",
    "from iads import utils as ut\n",
    "\n",
    "# commande TRES utile pour recharger automatiquement le code que vous modifiez dans les modules\n",
    "%load_ext autoreload\n",
    "%autoreload 2"
   ]
  },
  {
   "cell_type": "markdown",
   "metadata": {},
   "source": [
    "## Préparation : retour sur les arbres de décision"
   ]
  },
  {
   "cell_type": "markdown",
   "metadata": {},
   "source": [
    "### Création d'un dataset pour tester les fonctions"
   ]
  },
  {
   "cell_type": "code",
   "execution_count": 2,
   "metadata": {},
   "outputs": [
    {
     "name": "stdout",
     "output_type": "stream",
     "text": [
      "Taille du dataset généré : (100, 2) exemples\n"
     ]
    },
    {
     "data": {
      "image/png": "[encoded data removed]",
      "text/plain": [
       "<Figure size 432x288 with 1 Axes>"
      ]
     },
     "metadata": {
      "needs_background": "light"
     },
     "output_type": "display_data"
    }
   ],
   "source": [
    "# On initialise la graine\n",
    "np.random.seed(42)   \n",
    "\n",
    "d_desc, d_label = ut.genere_dataset_gaussian(np.array([1,1]),np.array([[1,0],[0,1]]), \\\n",
    "                                             np.array([-1,-1]),np.array([[1,0],[0,1]]), 50)\n",
    "\n",
    "print(\"Taille du dataset généré :\", np.shape(d_desc), \"exemples\")\n",
    "\n",
    "# Affichage :\n",
    "ut.plot2DSet(d_desc,d_label)"
   ]
  },
  {
   "cell_type": "markdown",
   "metadata": {},
   "source": [
    "### Frontière de séparation des classes \n",
    "\n",
    "Après avoir recopié vos fonctions de construction des arbres numériques du TME 7, afficher la frontière de séparation des classes et l'arbre obtenu pour les données générées."
   ]
  },
  {
   "cell_type": "code",
   "execution_count": 3,
   "metadata": {},
   "outputs": [
    {
     "name": "stdout",
     "output_type": "stream",
     "text": [
      "Accuracy (train):  1.0\n"
     ]
    },
    {
     "data": {
      "image/png": "[encoded data removed]",
      "text/plain": [
       "<Figure size 432x288 with 1 Axes>"
      ]
     },
     "metadata": {
      "needs_background": "light"
     },
     "output_type": "display_data"
    }
   ],
   "source": [
    "# De même, les classes de Classifiers sont utilisables en mettant classif. devant leur nom:\n",
    "# Création d'un perceptron\n",
    "arbre_1 = cl.ClassifierArbreNumerique(2, 0.0)\n",
    "\n",
    "# Construction de l'arbre de décision à partir du dataset généré plus haut\n",
    "arbre_1.train(d_desc,d_label)\n",
    "print(\"Accuracy (train): \", arbre_1.accuracy(d_desc,d_label))\n",
    "\n",
    "# Affichage de la frontière de séparation des classes\n",
    "ut.plot_frontiere(d_desc,d_label,arbre_1,step=100)\n",
    "ut.plot2DSet(d_desc,d_label)"
   ]
  },
  {
   "cell_type": "code",
   "execution_count": 4,
   "metadata": {},
   "outputs": [
    {
     "data": {
      "image/svg+xml": "<?xml version=\"1.0\" encoding=\"UTF-8\" standalone=\"no\"?>\n<!DOCTYPE svg PUBLIC \"-//W3C//DTD SVG 1.1//EN\"\n \"http://www.w3.org/Graphics/SVG/1.1/DTD/svg11.dtd\">\n<!-- Generated by graphviz version 3.0.0 (20220226.1711)\n -->\n<!-- Pages: 1 -->\n<svg width=\"734pt\" height=\"653pt\"\n viewBox=\"0.00 0.00 734.00 653.00\" xmlns=\"http://www.w3.org/2000/svg\" xmlns:xlink=\"http://www.w3.org/1999/xlink\">\n<g id=\"graph0\" class=\"graph\" transform=\"scale(1 1) rotate(0) translate(4 649)\">\n<polygon fill=\"white\" stroke=\"transparent\" points=\"-4,4 -4,-649 730,-649 730,4 -4,4\"/>\n<!-- A -->\n<g id=\"node1\" class=\"node\">\n<title>A</title>\n<ellipse fill=\"none\" stroke=\"black\" cx=\"263\" cy=\"-627\" rx=\"28.7\" ry=\"18\"/>\n<text text-anchor=\"middle\" x=\"263\" y=\"-623.3\" font-family=\"Times New Roman,serif\" font-size=\"14.00\">att_0</text>\n</g>\n<!-- Ag -->\n<g id=\"node2\" class=\"node\">\n<title>Ag</title>\n<ellipse fill=\"none\" stroke=\"black\" cx=\"182\" cy=\"-540\" rx=\"28.7\" ry=\"18\"/>\n<text text-anchor=\"middle\" x=\"182\" y=\"-536.3\" font-family=\"Times New Roman,serif\" font-size=\"14.00\">att_1</text>\n</g>\n<!-- A&#45;&gt;Ag -->\n<g id=\"edge15\" class=\"edge\">\n<title>A&#45;&gt;Ag</title>\n<path fill=\"none\" stroke=\"black\" d=\"M235.48,-621.73C217.29,-617.33 194.71,-608.52 183,-591 178.57,-584.37 177.19,-576.07 177.24,-568.15\"/>\n<polygon fill=\"black\" stroke=\"black\" points=\"180.73,-568.36 177.99,-558.12 173.75,-567.83 180.73,-568.36\"/>\n<text text-anchor=\"middle\" x=\"253\" y=\"-579.8\" font-family=\"Times New Roman,serif\" font-size=\"14.00\">&lt;=&#45;0.6383639749523659</text>\n</g>\n<!-- Ad -->\n<g id=\"node5\" class=\"node\">\n<title>Ad</title>\n<ellipse fill=\"none\" stroke=\"black\" cx=\"345\" cy=\"-540\" rx=\"28.7\" ry=\"18\"/>\n<text text-anchor=\"middle\" x=\"345\" y=\"-536.3\" font-family=\"Times New Roman,serif\" font-size=\"14.00\">att_1</text>\n</g>\n<!-- A&#45;&gt;Ad -->\n<g id=\"edge16\" class=\"edge\">\n<title>A&#45;&gt;Ad</title>\n<path fill=\"none\" stroke=\"black\" d=\"M286.46,-616.58C298.66,-610.72 313.04,-602.16 323,-591 329.02,-584.26 333.6,-575.61 336.99,-567.41\"/>\n<polygon fill=\"black\" stroke=\"black\" points=\"340.36,-568.38 340.54,-557.78 333.79,-565.95 340.36,-568.38\"/>\n<text text-anchor=\"middle\" x=\"399\" y=\"-579.8\" font-family=\"Times New Roman,serif\" font-size=\"14.00\">&gt;&#45;0.6383639749523659</text>\n</g>\n<!-- Agg -->\n<g id=\"node3\" class=\"node\">\n<title>Agg</title>\n<polygon fill=\"none\" stroke=\"black\" points=\"54,-471 0,-471 0,-435 54,-435 54,-471\"/>\n<text text-anchor=\"middle\" x=\"27\" y=\"-449.3\" font-family=\"Times New Roman,serif\" font-size=\"14.00\">&#45;1</text>\n</g>\n<!-- Ag&#45;&gt;Agg -->\n<g id=\"edge1\" class=\"edge\">\n<title>Ag&#45;&gt;Agg</title>\n<path fill=\"none\" stroke=\"black\" d=\"M153.16,-539.36C122.33,-538.17 73.87,-531.59 44,-504 37.49,-497.99 33.47,-489.38 30.99,-481\"/>\n<polygon fill=\"black\" stroke=\"black\" points=\"34.36,-480.02 28.67,-471.08 27.54,-481.62 34.36,-480.02\"/>\n<text text-anchor=\"middle\" x=\"112\" y=\"-492.8\" font-family=\"Times New Roman,serif\" font-size=\"14.00\">&lt;=0.8522781845089378</text>\n</g>\n<!-- Agd -->\n<g id=\"node4\" class=\"node\">\n<title>Agd</title>\n<polygon fill=\"none\" stroke=\"black\" points=\"213,-471 159,-471 159,-435 213,-435 213,-471\"/>\n<text text-anchor=\"middle\" x=\"186\" y=\"-449.3\" font-family=\"Times New Roman,serif\" font-size=\"14.00\">1</text>\n</g>\n<!-- Ag&#45;&gt;Agd -->\n<g id=\"edge2\" class=\"edge\">\n<title>Ag&#45;&gt;Agd</title>\n<path fill=\"none\" stroke=\"black\" d=\"M182.81,-521.8C183.36,-510.16 184.09,-494.55 184.72,-481.24\"/>\n<polygon fill=\"black\" stroke=\"black\" points=\"188.22,-481.33 185.19,-471.18 181.23,-481 188.22,-481.33\"/>\n<text text-anchor=\"middle\" x=\"248.5\" y=\"-492.8\" font-family=\"Times New Roman,serif\" font-size=\"14.00\">&gt;0.8522781845089378</text>\n</g>\n<!-- Adg -->\n<g id=\"node6\" class=\"node\">\n<title>Adg</title>\n<polygon fill=\"none\" stroke=\"black\" points=\"369,-471 315,-471 315,-435 369,-435 369,-471\"/>\n<text text-anchor=\"middle\" x=\"342\" y=\"-449.3\" font-family=\"Times New Roman,serif\" font-size=\"14.00\">&#45;1</text>\n</g>\n<!-- Ad&#45;&gt;Adg -->\n<g id=\"edge13\" class=\"edge\">\n<title>Ad&#45;&gt;Adg</title>\n<path fill=\"none\" stroke=\"black\" d=\"M343.9,-521.92C343.56,-516.22 343.23,-509.84 343,-504 342.72,-496.66 342.51,-488.7 342.36,-481.34\"/>\n<polygon fill=\"black\" stroke=\"black\" points=\"345.86,-481.07 342.19,-471.13 338.86,-481.19 345.86,-481.07\"/>\n<text text-anchor=\"middle\" x=\"413\" y=\"-492.8\" font-family=\"Times New Roman,serif\" font-size=\"14.00\">&lt;=&#45;0.6712488903403155</text>\n</g>\n<!-- Add -->\n<g id=\"node7\" class=\"node\">\n<title>Add</title>\n<ellipse fill=\"none\" stroke=\"black\" cx=\"505\" cy=\"-453\" rx=\"28.7\" ry=\"18\"/>\n<text text-anchor=\"middle\" x=\"505\" y=\"-449.3\" font-family=\"Times New Roman,serif\" font-size=\"14.00\">att_0</text>\n</g>\n<!-- Ad&#45;&gt;Add -->\n<g id=\"edge14\" class=\"edge\">\n<title>Ad&#45;&gt;Add</title>\n<path fill=\"none\" stroke=\"black\" d=\"M373.67,-538.83C404.12,-537.19 452.06,-530.19 483,-504 490.08,-498.01 494.96,-489.31 498.29,-480.83\"/>\n<polygon fill=\"black\" stroke=\"black\" points=\"501.67,-481.76 501.52,-471.17 495.03,-479.54 501.67,-481.76\"/>\n<text text-anchor=\"middle\" x=\"560\" y=\"-492.8\" font-family=\"Times New Roman,serif\" font-size=\"14.00\">&gt;&#45;0.6712488903403155</text>\n</g>\n<!-- Addg -->\n<g id=\"node8\" class=\"node\">\n<title>Addg</title>\n<ellipse fill=\"none\" stroke=\"black\" cx=\"426\" cy=\"-366\" rx=\"28.7\" ry=\"18\"/>\n<text text-anchor=\"middle\" x=\"426\" y=\"-362.3\" font-family=\"Times New Roman,serif\" font-size=\"14.00\">att_1</text>\n</g>\n<!-- Add&#45;&gt;Addg -->\n<g id=\"edge11\" class=\"edge\">\n<title>Add&#45;&gt;Addg</title>\n<path fill=\"none\" stroke=\"black\" d=\"M477.76,-447.43C460.08,-442.92 438.3,-434.08 427,-417 422.6,-410.35 421.23,-402.05 421.28,-394.12\"/>\n<polygon fill=\"black\" stroke=\"black\" points=\"424.77,-394.33 422.03,-384.1 417.79,-393.81 424.77,-394.33\"/>\n<text text-anchor=\"middle\" x=\"495\" y=\"-405.8\" font-family=\"Times New Roman,serif\" font-size=\"14.00\">&lt;=0.5792128155073915</text>\n</g>\n<!-- Addd -->\n<g id=\"node17\" class=\"node\">\n<title>Addd</title>\n<polygon fill=\"none\" stroke=\"black\" points=\"612,-384 558,-384 558,-348 612,-348 612,-384\"/>\n<text text-anchor=\"middle\" x=\"585\" y=\"-362.3\" font-family=\"Times New Roman,serif\" font-size=\"14.00\">1</text>\n</g>\n<!-- Add&#45;&gt;Addd -->\n<g id=\"edge12\" class=\"edge\">\n<title>Add&#45;&gt;Addd</title>\n<path fill=\"none\" stroke=\"black\" d=\"M527.96,-442.27C539.69,-436.37 553.45,-427.86 563,-417 568.88,-410.32 573.4,-401.81 576.77,-393.72\"/>\n<polygon fill=\"black\" stroke=\"black\" points=\"580.11,-394.8 580.33,-384.21 573.55,-392.35 580.11,-394.8\"/>\n<text text-anchor=\"middle\" x=\"636.5\" y=\"-405.8\" font-family=\"Times New Roman,serif\" font-size=\"14.00\">&gt;0.5792128155073915</text>\n</g>\n<!-- Addgg -->\n<g id=\"node9\" class=\"node\">\n<title>Addgg</title>\n<ellipse fill=\"none\" stroke=\"black\" cx=\"347\" cy=\"-279\" rx=\"28.7\" ry=\"18\"/>\n<text text-anchor=\"middle\" x=\"347\" y=\"-275.3\" font-family=\"Times New Roman,serif\" font-size=\"14.00\">att_1</text>\n</g>\n<!-- Addg&#45;&gt;Addgg -->\n<g id=\"edge9\" class=\"edge\">\n<title>Addg&#45;&gt;Addgg</title>\n<path fill=\"none\" stroke=\"black\" d=\"M398.76,-360.43C381.08,-355.92 359.3,-347.08 348,-330 343.6,-323.35 342.23,-315.05 342.28,-307.12\"/>\n<polygon fill=\"black\" stroke=\"black\" points=\"345.77,-307.33 343.03,-297.1 338.79,-306.81 345.77,-307.33\"/>\n<text text-anchor=\"middle\" x=\"416\" y=\"-318.8\" font-family=\"Times New Roman,serif\" font-size=\"14.00\">&lt;=0.5230298564080254</text>\n</g>\n<!-- Addgd -->\n<g id=\"node16\" class=\"node\">\n<title>Addgd</title>\n<polygon fill=\"none\" stroke=\"black\" points=\"533,-297 479,-297 479,-261 533,-261 533,-297\"/>\n<text text-anchor=\"middle\" x=\"506\" y=\"-275.3\" font-family=\"Times New Roman,serif\" font-size=\"14.00\">1</text>\n</g>\n<!-- Addg&#45;&gt;Addgd -->\n<g id=\"edge10\" class=\"edge\">\n<title>Addg&#45;&gt;Addgd</title>\n<path fill=\"none\" stroke=\"black\" d=\"M448.96,-355.27C460.69,-349.37 474.45,-340.86 484,-330 489.88,-323.32 494.4,-314.81 497.77,-306.72\"/>\n<polygon fill=\"black\" stroke=\"black\" points=\"501.11,-307.8 501.33,-297.21 494.55,-305.35 501.11,-307.8\"/>\n<text text-anchor=\"middle\" x=\"557.5\" y=\"-318.8\" font-family=\"Times New Roman,serif\" font-size=\"14.00\">&gt;0.5230298564080254</text>\n</g>\n<!-- Addggg -->\n<g id=\"node10\" class=\"node\">\n<title>Addggg</title>\n<polygon fill=\"none\" stroke=\"black\" points=\"293,-210 239,-210 239,-174 293,-174 293,-210\"/>\n<text text-anchor=\"middle\" x=\"266\" y=\"-188.3\" font-family=\"Times New Roman,serif\" font-size=\"14.00\">1</text>\n</g>\n<!-- Addgg&#45;&gt;Addggg -->\n<g id=\"edge7\" class=\"edge\">\n<title>Addgg&#45;&gt;Addggg</title>\n<path fill=\"none\" stroke=\"black\" d=\"M319.48,-273.73C301.29,-269.33 278.71,-260.52 267,-243 262.57,-236.37 261.19,-228.07 261.24,-220.15\"/>\n<polygon fill=\"black\" stroke=\"black\" points=\"264.73,-220.36 261.99,-210.12 257.75,-219.83 264.73,-220.36\"/>\n<text text-anchor=\"middle\" x=\"337\" y=\"-231.8\" font-family=\"Times New Roman,serif\" font-size=\"14.00\">&lt;=&#45;0.3204566130842763</text>\n</g>\n<!-- Addggd -->\n<g id=\"node11\" class=\"node\">\n<title>Addggd</title>\n<ellipse fill=\"none\" stroke=\"black\" cx=\"429\" cy=\"-192\" rx=\"28.7\" ry=\"18\"/>\n<text text-anchor=\"middle\" x=\"429\" y=\"-188.3\" font-family=\"Times New Roman,serif\" font-size=\"14.00\">att_0</text>\n</g>\n<!-- Addgg&#45;&gt;Addggd -->\n<g id=\"edge8\" class=\"edge\">\n<title>Addgg&#45;&gt;Addggd</title>\n<path fill=\"none\" stroke=\"black\" d=\"M370.46,-268.58C382.66,-262.72 397.04,-254.16 407,-243 413.02,-236.26 417.6,-227.61 420.99,-219.41\"/>\n<polygon fill=\"black\" stroke=\"black\" points=\"424.36,-220.38 424.54,-209.78 417.79,-217.95 424.36,-220.38\"/>\n<text text-anchor=\"middle\" x=\"483\" y=\"-231.8\" font-family=\"Times New Roman,serif\" font-size=\"14.00\">&gt;&#45;0.3204566130842763</text>\n</g>\n<!-- Addggdg -->\n<g id=\"node12\" class=\"node\">\n<title>Addggdg</title>\n<polygon fill=\"none\" stroke=\"black\" points=\"371,-123 317,-123 317,-87 371,-87 371,-123\"/>\n<text text-anchor=\"middle\" x=\"344\" y=\"-101.3\" font-family=\"Times New Roman,serif\" font-size=\"14.00\">&#45;1</text>\n</g>\n<!-- Addggd&#45;&gt;Addggdg -->\n<g id=\"edge5\" class=\"edge\">\n<title>Addggd&#45;&gt;Addggdg</title>\n<path fill=\"none\" stroke=\"black\" d=\"M400.97,-187.3C381.75,-183.16 357.54,-174.41 345,-156 340.51,-149.41 339.12,-141.12 339.17,-133.2\"/>\n<polygon fill=\"black\" stroke=\"black\" points=\"342.66,-133.4 339.94,-123.16 335.68,-132.87 342.66,-133.4\"/>\n<text text-anchor=\"middle\" x=\"418.5\" y=\"-144.8\" font-family=\"Times New Roman,serif\" font-size=\"14.00\">&lt;=&#45;0.18747417760580198</text>\n</g>\n<!-- Addggdd -->\n<g id=\"node13\" class=\"node\">\n<title>Addggdd</title>\n<ellipse fill=\"none\" stroke=\"black\" cx=\"514\" cy=\"-105\" rx=\"28.7\" ry=\"18\"/>\n<text text-anchor=\"middle\" x=\"514\" y=\"-101.3\" font-family=\"Times New Roman,serif\" font-size=\"14.00\">att_1</text>\n</g>\n<!-- Addggd&#45;&gt;Addggdd -->\n<g id=\"edge6\" class=\"edge\">\n<title>Addggd&#45;&gt;Addggdd</title>\n<path fill=\"none\" stroke=\"black\" d=\"M453.02,-182.1C465.95,-176.31 481.38,-167.65 492,-156 498.09,-149.32 502.69,-140.69 506.07,-132.48\"/>\n<polygon fill=\"black\" stroke=\"black\" points=\"509.45,-133.44 509.61,-122.84 502.88,-131.03 509.45,-133.44\"/>\n<text text-anchor=\"middle\" x=\"571.5\" y=\"-144.8\" font-family=\"Times New Roman,serif\" font-size=\"14.00\">&gt;&#45;0.18747417760580198</text>\n</g>\n<!-- Addggddg -->\n<g id=\"node14\" class=\"node\">\n<title>Addggddg</title>\n<polygon fill=\"none\" stroke=\"black\" points=\"456,-36 402,-36 402,0 456,0 456,-36\"/>\n<text text-anchor=\"middle\" x=\"429\" y=\"-14.3\" font-family=\"Times New Roman,serif\" font-size=\"14.00\">&#45;1</text>\n</g>\n<!-- Addggdd&#45;&gt;Addggddg -->\n<g id=\"edge3\" class=\"edge\">\n<title>Addggdd&#45;&gt;Addggddg</title>\n<path fill=\"none\" stroke=\"black\" d=\"M485.97,-100.3C466.75,-96.16 442.54,-87.41 430,-69 425.51,-62.41 424.12,-54.12 424.17,-46.2\"/>\n<polygon fill=\"black\" stroke=\"black\" points=\"427.66,-46.4 424.94,-36.16 420.68,-45.87 427.66,-46.4\"/>\n<text text-anchor=\"middle\" x=\"503.5\" y=\"-57.8\" font-family=\"Times New Roman,serif\" font-size=\"14.00\">&lt;=&#45;0.06871988088380143</text>\n</g>\n<!-- Addggddd -->\n<g id=\"node15\" class=\"node\">\n<title>Addggddd</title>\n<polygon fill=\"none\" stroke=\"black\" points=\"626,-36 572,-36 572,0 626,0 626,-36\"/>\n<text text-anchor=\"middle\" x=\"599\" y=\"-14.3\" font-family=\"Times New Roman,serif\" font-size=\"14.00\">1</text>\n</g>\n<!-- Addggdd&#45;&gt;Addggddd -->\n<g id=\"edge4\" class=\"edge\">\n<title>Addggdd&#45;&gt;Addggddd</title>\n<path fill=\"none\" stroke=\"black\" d=\"M538.02,-95.1C550.95,-89.31 566.38,-80.65 577,-69 583,-62.42 587.55,-53.95 590.92,-45.85\"/>\n<polygon fill=\"black\" stroke=\"black\" points=\"594.26,-46.91 594.45,-36.32 587.69,-44.48 594.26,-46.91\"/>\n<text text-anchor=\"middle\" x=\"656.5\" y=\"-57.8\" font-family=\"Times New Roman,serif\" font-size=\"14.00\">&gt;&#45;0.06871988088380143</text>\n</g>\n</g>\n</svg>\n",
      "text/plain": [
       "<graphviz.graphs.Digraph at 0x128f3c29e40>"
      ]
     },
     "execution_count": 4,
     "metadata": {},
     "output_type": "execute_result"
    }
   ],
   "source": [
    "import graphviz as gv\n",
    "\n",
    "# Construction de la représentation graphique (affichage)\n",
    "graphe_arbre_1 = gv.Digraph(format='png')\n",
    "arbre_1.affiche(graphe_arbre_1)\n",
    "\n",
    "# Affichage du graphe obtenu:\n",
    "graphe_arbre_1"
   ]
  },
  {
   "cell_type": "markdown",
   "metadata": {},
   "source": [
    "<font color=\"RED\" size=\"+1\"><b>[Q]</b></font> Sur une feuille de papier, représenter la frontière de séparation des classes en la dessinant à la main et en utilisant l'arbre ci-dessus."
   ]
  },
  {
   "cell_type": "markdown",
   "metadata": {},
   "source": [
    "Même chose mais en utilisant un seuil d'entropie lors de la construction, ici égal à $0.3$ \n"
   ]
  },
  {
   "cell_type": "code",
   "execution_count": 35,
   "metadata": {},
   "outputs": [
    {
     "name": "stdout",
     "output_type": "stream",
     "text": [
      "Accuracy (train):  0.95\n"
     ]
    },
    {
     "data": {
      "image/svg+xml": "<?xml version=\"1.0\" encoding=\"UTF-8\" standalone=\"no\"?>\n<!DOCTYPE svg PUBLIC \"-//W3C//DTD SVG 1.1//EN\"\n \"http://www.w3.org/Graphics/SVG/1.1/DTD/svg11.dtd\">\n<!-- Generated by graphviz version 3.0.0 (20220226.1711)\n -->\n<!-- Pages: 1 -->\n<svg width=\"399pt\" height=\"218pt\"\n viewBox=\"0.00 0.00 399.00 218.00\" xmlns=\"http://www.w3.org/2000/svg\" xmlns:xlink=\"http://www.w3.org/1999/xlink\">\n<g id=\"graph0\" class=\"graph\" transform=\"scale(1 1) rotate(0) translate(4 214)\">\n<polygon fill=\"white\" stroke=\"transparent\" points=\"-4,4 -4,-214 395,-214 395,4 -4,4\"/>\n<!-- A -->\n<g id=\"node1\" class=\"node\">\n<title>A</title>\n<ellipse fill=\"none\" stroke=\"black\" cx=\"108\" cy=\"-192\" rx=\"28.7\" ry=\"18\"/>\n<text text-anchor=\"middle\" x=\"108\" y=\"-188.3\" font-family=\"Times New Roman,serif\" font-size=\"14.00\">att_0</text>\n</g>\n<!-- Ag -->\n<g id=\"node2\" class=\"node\">\n<title>Ag</title>\n<polygon fill=\"none\" stroke=\"black\" points=\"54,-123 0,-123 0,-87 54,-87 54,-123\"/>\n<text text-anchor=\"middle\" x=\"27\" y=\"-101.3\" font-family=\"Times New Roman,serif\" font-size=\"14.00\">&#45;1</text>\n</g>\n<!-- A&#45;&gt;Ag -->\n<g id=\"edge3\" class=\"edge\">\n<title>A&#45;&gt;Ag</title>\n<path fill=\"none\" stroke=\"black\" d=\"M80.48,-186.73C62.29,-182.33 39.71,-173.52 28,-156 23.57,-149.37 22.19,-141.07 22.24,-133.15\"/>\n<polygon fill=\"black\" stroke=\"black\" points=\"25.73,-133.36 22.99,-123.12 18.75,-132.83 25.73,-133.36\"/>\n<text text-anchor=\"middle\" x=\"98\" y=\"-144.8\" font-family=\"Times New Roman,serif\" font-size=\"14.00\">&lt;=&#45;0.6383639749523659</text>\n</g>\n<!-- Ad -->\n<g id=\"node3\" class=\"node\">\n<title>Ad</title>\n<ellipse fill=\"none\" stroke=\"black\" cx=\"190\" cy=\"-105\" rx=\"28.7\" ry=\"18\"/>\n<text text-anchor=\"middle\" x=\"190\" y=\"-101.3\" font-family=\"Times New Roman,serif\" font-size=\"14.00\">att_1</text>\n</g>\n<!-- A&#45;&gt;Ad -->\n<g id=\"edge4\" class=\"edge\">\n<title>A&#45;&gt;Ad</title>\n<path fill=\"none\" stroke=\"black\" d=\"M131.46,-181.58C143.66,-175.72 158.04,-167.16 168,-156 174.02,-149.26 178.6,-140.61 181.99,-132.41\"/>\n<polygon fill=\"black\" stroke=\"black\" points=\"185.36,-133.38 185.54,-122.78 178.79,-130.95 185.36,-133.38\"/>\n<text text-anchor=\"middle\" x=\"244\" y=\"-144.8\" font-family=\"Times New Roman,serif\" font-size=\"14.00\">&gt;&#45;0.6383639749523659</text>\n</g>\n<!-- Adg -->\n<g id=\"node4\" class=\"node\">\n<title>Adg</title>\n<polygon fill=\"none\" stroke=\"black\" points=\"136,-36 82,-36 82,0 136,0 136,-36\"/>\n<text text-anchor=\"middle\" x=\"109\" y=\"-14.3\" font-family=\"Times New Roman,serif\" font-size=\"14.00\">&#45;1</text>\n</g>\n<!-- Ad&#45;&gt;Adg -->\n<g id=\"edge1\" class=\"edge\">\n<title>Ad&#45;&gt;Adg</title>\n<path fill=\"none\" stroke=\"black\" d=\"M162.48,-99.73C144.29,-95.33 121.71,-86.52 110,-69 105.57,-62.37 104.19,-54.07 104.24,-46.15\"/>\n<polygon fill=\"black\" stroke=\"black\" points=\"107.73,-46.36 104.99,-36.12 100.75,-45.83 107.73,-46.36\"/>\n<text text-anchor=\"middle\" x=\"180\" y=\"-57.8\" font-family=\"Times New Roman,serif\" font-size=\"14.00\">&lt;=&#45;0.6712488903403155</text>\n</g>\n<!-- Add -->\n<g id=\"node5\" class=\"node\">\n<title>Add</title>\n<polygon fill=\"none\" stroke=\"black\" points=\"299,-36 245,-36 245,0 299,0 299,-36\"/>\n<text text-anchor=\"middle\" x=\"272\" y=\"-14.3\" font-family=\"Times New Roman,serif\" font-size=\"14.00\">1</text>\n</g>\n<!-- Ad&#45;&gt;Add -->\n<g id=\"edge2\" class=\"edge\">\n<title>Ad&#45;&gt;Add</title>\n<path fill=\"none\" stroke=\"black\" d=\"M213.46,-94.58C225.66,-88.72 240.04,-80.16 250,-69 255.93,-62.36 260.46,-53.87 263.83,-45.78\"/>\n<polygon fill=\"black\" stroke=\"black\" points=\"267.17,-46.85 267.38,-36.25 260.61,-44.4 267.17,-46.85\"/>\n<text text-anchor=\"middle\" x=\"325\" y=\"-57.8\" font-family=\"Times New Roman,serif\" font-size=\"14.00\">&gt;&#45;0.6712488903403155</text>\n</g>\n</g>\n</svg>\n",
      "text/plain": [
       "<graphviz.graphs.Digraph at 0x128f4ed87c0>"
      ]
     },
     "execution_count": 35,
     "metadata": {},
     "output_type": "execute_result"
    },
    {
     "data": {
      "image/png": "[encoded data removed]",
      "text/plain": [
       "<Figure size 432x288 with 1 Axes>"
      ]
     },
     "metadata": {
      "needs_background": "light"
     },
     "output_type": "display_data"
    }
   ],
   "source": [
    "# De même, les classes de Classifiers sont utilisables en mettant classif. devant leur nom:\n",
    "# Création d'un perceptron\n",
    "arbre_2 = cl.ClassifierArbreNumerique(2, 0.30)\n",
    "\n",
    "# Construction de l'arbre de décision à partir du dataset généré plus haut\n",
    "arbre_2.train(d_desc,d_label)\n",
    "print(\"Accuracy (train): \", arbre_2.accuracy(d_desc,d_label))\n",
    "\n",
    "# Affichage de la frontière de séparation des classes\n",
    "ut.plot_frontiere(d_desc,d_label,arbre_2,step=100)\n",
    "ut.plot2DSet(d_desc,d_label)\n",
    "\n",
    "# Construction de la représentation graphique (affichage)\n",
    "graphe_arbre_2 = gv.Digraph(format='png')\n",
    "arbre_2.affiche(graphe_arbre_2)\n",
    "\n",
    "# Affichage du graphe obtenu:\n",
    "graphe_arbre_2"
   ]
  },
  {
   "cell_type": "markdown",
   "metadata": {},
   "source": [
    "## Bagging d'arbres de décision\n",
    "\n",
    "### Tirage aléatoire d'exemples\n",
    "\n",
    "Le bootstrap s'effectue en tirant aléatoirement un échantillon de $m$ exemples à partir de la base d'apprentissage $X$. Cet échantillon sert ensuite à construire un classifieur.\n",
    "\n",
    "Dans l'algorithme du bagging, ce processus est répété $B$ fois.\n",
    "\n",
    "Afin de ne pas alourdir la place mémoire nécessaire pour réaliser un tel tirage, on ne travaille que sur les indices des exemples dans la base. Un **échantillon de $X$ est donc un vecteur d'entiers** qui représentent les indices des exemples choisis.\n"
   ]
  },
  {
   "cell_type": "markdown",
   "metadata": {},
   "source": [
    "### Tirages aléatoires\n",
    "\n",
    "Consulter la librairie Python random qui propose différentes fonctions utiles pour implémenter le tirage aléatoire du bootstrap.\n",
    "\n",
    "Par exemple, la fonction <code>sample()</code> de la librairie <code>random</code> rend une sélection aléatoire dans une population donnée en réalisant un tirage sans remise.\n",
    "\n",
    "Pour tester, exécuter plusieurs fois les instructions de la boîte suivante :"
   ]
  },
  {
   "cell_type": "code",
   "execution_count": 36,
   "metadata": {},
   "outputs": [
    {
     "name": "stdout",
     "output_type": "stream",
     "text": [
      "La liste L de départ:  [0, 1, 2, 3, 4, 5, 6, 7, 8, 9, 10]\n",
      "Echantillon 1:  [10, 1, 0, 4, 9, 6]\n",
      "Echantillon 2:  [2, 1, 8, 9, 4, 3]\n"
     ]
    }
   ],
   "source": [
    "import random\n",
    "\n",
    "# ATTENTION : on utilise ici les fonctions de la librairie random pas numpy !\n",
    "# Donc, on ne préfixe pas les fonction par np.\n",
    "random.seed(42)   # on prend 42 comme graine\n",
    "\n",
    "L= [i for i in range(0,11)]             # construction de la liste des entiers de 0 à 10\n",
    "print(\"La liste L de départ: \",L)\n",
    "EchL_1 = random.sample(L,6)               # tirage de 6 éléments de L\n",
    "print(\"Echantillon 1: \",EchL_1)\n",
    "EchL_2 = random.sample(L,6)               # un autre tirage de 6 éléments de L\n",
    "print(\"Echantillon 2: \",EchL_2)\n"
   ]
  },
  {
   "cell_type": "markdown",
   "metadata": {},
   "source": [
    "La fonction <code>choice()</code> permet de choisir aléatoirement un élément dans une liste:"
   ]
  },
  {
   "cell_type": "code",
   "execution_count": 37,
   "metadata": {},
   "outputs": [
    {
     "name": "stdout",
     "output_type": "stream",
     "text": [
      "La liste L de départ:  [0, 1, 2, 3, 4, 5, 6, 7, 8, 9, 10]\n",
      "Element choisi:  10\n"
     ]
    }
   ],
   "source": [
    "random.seed(42)   # on prend 42 comme graine\n",
    "\n",
    "L= [i for i in range(0,11)]             # construction de la liste des entiers de 0 à 10\n",
    "print(\"La liste L de départ: \",L)\n",
    "elt = random.choice(L)                  # choix d'un élémént\n",
    "print(\"Element choisi: \",elt)"
   ]
  },
  {
   "cell_type": "markdown",
   "metadata": {},
   "source": [
    "<font color=\"RED\" size=\"+1\">**[Q]**</font> Ecrire la fonction <code>tirage()</code> qui étant donné un vecteur d'entiers <i>VX</i> qui représente l'ensemble des indices des exemples d'une base d'apprentissage <i>X</i>, un entier $m$, et un booléen $r$, rend un vecteur de $m$ indices choisis aléatoirement dans <i>VX</i>. Si le booléen $r$ est vrai, le tirage s'effectue *avec remise*, sinon il s'effectue *sans remise*."
   ]
  },
  {
   "cell_type": "code",
   "execution_count": 38,
   "metadata": {},
   "outputs": [],
   "source": [
    "import random\n",
    "def tirage(VX, m, r = False):\n",
    "    \"\"\"\n",
    "    Arguments: \n",
    "        VX : ensemble des indices des exemples de la BA X\n",
    "        m  : taille du vecteur d'indices à rendre\n",
    "        r  : booleen indiquant si il y a remise ou pas dans le tirage\n",
    "    \"\"\"\n",
    "    return [random.choice(VX) for i in range(m)] if r else random.sample(VX,m)"
   ]
  },
  {
   "cell_type": "markdown",
   "metadata": {},
   "source": [
    "Exemples :"
   ]
  },
  {
   "cell_type": "code",
   "execution_count": 39,
   "metadata": {},
   "outputs": [
    {
     "data": {
      "text/plain": [
       "[1, 0, 4, 3, 3, 2, 1, 8]"
      ]
     },
     "execution_count": 39,
     "metadata": {},
     "output_type": "execute_result"
    }
   ],
   "source": [
    "random.seed(42)   # on prend 42 comme graine\n",
    "L= [i for i in range(0,10)]    # construction de la liste des entiers de 0 à 100\n",
    "tirage(L,8,True)               # tirage avec remise"
   ]
  },
  {
   "cell_type": "code",
   "execution_count": 40,
   "metadata": {},
   "outputs": [
    {
     "data": {
      "text/plain": [
       "[1, 6, 0, 7, 8, 9, 4, 2]"
      ]
     },
     "execution_count": 40,
     "metadata": {},
     "output_type": "execute_result"
    }
   ],
   "source": [
    "tirage(L,8,False)               # tirage sans remise"
   ]
  },
  {
   "cell_type": "code",
   "execution_count": 41,
   "metadata": {},
   "outputs": [
    {
     "data": {
      "text/plain": [
       "array([[-0.50328585, -1.1382643 ],\n",
       "       [-0.35231146,  0.52302986],\n",
       "       [-1.23415337, -1.23413696],\n",
       "       [ 0.57921282, -0.23256527],\n",
       "       [-1.46947439, -0.45743996],\n",
       "       [-1.46341769, -1.46572975],\n",
       "       [-0.75803773, -2.91328024],\n",
       "       [-2.72491783, -1.56228753],\n",
       "       [-2.01283112, -0.68575267],\n",
       "       [-1.90802408, -2.4123037 ]])"
      ]
     },
     "execution_count": 41,
     "metadata": {},
     "output_type": "execute_result"
    }
   ],
   "source": [
    "# Pour rappel:\n",
    "# 10 premières lignes de d_desc:\n",
    "d_desc[0:10,:]"
   ]
  },
  {
   "cell_type": "code",
   "execution_count": 42,
   "metadata": {},
   "outputs": [
    {
     "data": {
      "text/plain": [
       "array([[-0.50328585, -1.1382643 ],\n",
       "       [-1.46341769, -1.46572975],\n",
       "       [-0.35231146,  0.52302986],\n",
       "       [-0.50328585, -1.1382643 ],\n",
       "       [-0.50328585, -1.1382643 ]])"
      ]
     },
     "execution_count": 42,
     "metadata": {},
     "output_type": "execute_result"
    }
   ],
   "source": [
    "# Choix de lignes quelconques de d_desc\n",
    "L=[0,5,1,0,0]\n",
    "d_desc[L,:]"
   ]
  },
  {
   "cell_type": "code",
   "execution_count": 43,
   "metadata": {},
   "outputs": [
    {
     "data": {
      "text/plain": [
       "array([-1, -1, -1, -1, -1])"
      ]
     },
     "execution_count": 43,
     "metadata": {},
     "output_type": "execute_result"
    }
   ],
   "source": [
    "# et les labels\n",
    "d_label[L]"
   ]
  },
  {
   "cell_type": "code",
   "execution_count": 44,
   "metadata": {},
   "outputs": [
    {
     "data": {
      "text/plain": [
       "array([[-0.50328585, -1.1382643 ],\n",
       "       [ 1.05820872, -0.1429703 ],\n",
       "       [-1.54438272, -0.88907741],\n",
       "       [ 0.02531833,  1.7870846 ]])"
      ]
     },
     "execution_count": 44,
     "metadata": {},
     "output_type": "execute_result"
    }
   ],
   "source": [
    "# Choix de lignes quelconques de d_desc\n",
    "L=[0,99,12,80]\n",
    "d_desc[L,:]"
   ]
  },
  {
   "cell_type": "code",
   "execution_count": 45,
   "metadata": {},
   "outputs": [
    {
     "data": {
      "text/plain": [
       "array([-1,  1, -1,  1])"
      ]
     },
     "execution_count": 45,
     "metadata": {},
     "output_type": "execute_result"
    }
   ],
   "source": [
    "d_label[L]"
   ]
  },
  {
   "cell_type": "markdown",
   "metadata": {},
   "source": [
    "Dans ce qui suit, pour faciliter les énoncés, on appelle <code>LabeledSet</code> un couple de 2 np.arrays $X$ pour les descriptions des exemples et $Y$ pour les labels correspondant à chaque exemple.\n",
    "\n",
    "Par exemple, le <code>LabeledSet</code> pour les données générées précédemment est <code>(d_desc,d_label)</code>."
   ]
  },
  {
   "cell_type": "markdown",
   "metadata": {
    "collapsed": true
   },
   "source": [
    "<font color=\"RED\" size=\"+1\">**[Q]**</font> En utilisant la fonction précédente, écrire la fonction <code>echantillonLS()</code> qui, étant donné un <code>LabeledSet</code> $LS$, un nombre entier $m$, et un booléen $r$ (avec ou sans remise) rend le <code>LabeledSet</code> échantillon de $LS$ de taille $m$. \n",
    "\n",
    "*Remarque*: on peut faire l'hypothèse que $m$ est inférieur ou égal au nombre de lignes de $LS$. \n"
   ]
  },
  {
   "cell_type": "code",
   "execution_count": 46,
   "metadata": {},
   "outputs": [],
   "source": [
    "def echantillonLS(LS, m, r):\n",
    "    \"\"\"\n",
    "    Arguments: \n",
    "        LS : couple de 2 np.arrays (X,Y)\n",
    "        m  : taille du vecteur d'indices à rendre\n",
    "        r  : booleen indiquant si il y a remise ou pas dans le tirage\n",
    "    \"\"\"\n",
    "    X,Y = LS[0], LS[1]\n",
    "    VX = tirage([i for i in range(len(X))], m, r)\n",
    "    return X[VX], Y[VX]"
   ]
  },
  {
   "cell_type": "code",
   "execution_count": 47,
   "metadata": {},
   "outputs": [
    {
     "data": {
      "text/plain": [
       "(array([[ 1.29307247,  0.28564858],\n",
       "        [ 0.57921282, -0.23256527],\n",
       "        [-0.60748323,  1.18463386],\n",
       "        [-0.67591603, -1.38508228],\n",
       "        [-0.0708925 ,  1.48247242],\n",
       "        [ 1.82206016,  2.89679298],\n",
       "        [ 0.73534317,  3.72016917],\n",
       "        [ 1.81351722, -0.23086432],\n",
       "        [ 2.8861859 ,  1.17457781],\n",
       "        [-1.83921752, -1.30921238]]),\n",
       " array([ 1, -1,  1, -1,  1,  1,  1,  1,  1, -1]))"
      ]
     },
     "execution_count": 47,
     "metadata": {},
     "output_type": "execute_result"
    }
   ],
   "source": [
    "echantillonLS((d_desc,d_label),10,True)"
   ]
  },
  {
   "cell_type": "markdown",
   "metadata": {},
   "source": [
    "<font color=\"RED\" size=\"+1\">**[Q]**</font> Ecrire la classe <code>ClassifierBaggingTree</code>, dérivée de la classe <code>Classifier</code>, qui permet d'implémenter un bagging d'arbres de décision (numériques). Les spécifications de cette classe sont :\n",
    "- la création de l'ensemble nécessite les paramètres suivants : \n",
    "    - le nombre $B$ d'arbres à construire, \n",
    "    - le pourcentage d'exemples de la base d'apprentissage utilisés pour constituer un échantillon, \n",
    "    - un booléen qui précise si un échantillon est tiré avec ou sans remise\n",
    "    - et la valeur de seuil d'entropie pour arrêter la construction de chaque arbre, \n",
    "- l'apprentissage (méthode <code>train()</code>) construit autant d'arbres que précisé à la création. Chaque arbre est construit à partir d'un échantillon de la base d'apprentissage (donnée sous forme d'un <code>LabeledSet</code>) donnée en argument. Les arbres construits sont stockés dans un ensemble Python.\n",
    "- la prédiction (méthode <code>predict()</code>) classe un exemple par vote de tous les arbres de la forêt. Si la somme des votes est positive ou nulle, la classe rendue est +1, sinon, la classe rendue est -1.\n"
   ]
  },
  {
   "cell_type": "code",
   "execution_count": 74,
   "metadata": {},
   "outputs": [],
   "source": [
    "class ClassifierBaggingTree(cl.Classifier):\n",
    "    def __init__(self, B, perc, seuil, r):\n",
    "        \"\"\" Constructeur\n",
    "            Argument:\n",
    "                - intput_dimension (int) : dimension de la description des exemples\n",
    "                - epsilon (float) : paramètre de l'algorithme (cf. explications précédentes)\n",
    "                - LNoms : Liste des noms de dimensions (si connues)\n",
    "            Hypothèse : input_dimension > 0\n",
    "        \"\"\"\n",
    "        self.B = B\n",
    "        self.perc = perc\n",
    "        self.r = r\n",
    "        self.seuil = seuil\n",
    "        \n",
    "    def train(self, LabeledSet):\n",
    "        \"\"\" Permet d'entrainer le modele sur l'ensemble donné\n",
    "            desc_set: ndarray avec des descriptions\n",
    "            label_set: ndarray avec les labels correspondants\n",
    "            Hypothèse: desc_set et label_set ont le même nombre de lignes\n",
    "        \"\"\"        \n",
    "        self.treeSet = set(cl.ClassifierArbreNumerique(LabeledSet[0][1], self.seuil) for i in range(self.B))\n",
    "        taille_ech = round(len(LabeledSet[0])*self.perc)\n",
    "        for tree in self.treeSet:\n",
    "            X, Y = echantillonLS(LabeledSet, taille_ech, self.r)\n",
    "            tree.train(X,Y)\n",
    "    \n",
    "    def predict(self, x):\n",
    "        \"\"\" x (array): une description d'exemple\n",
    "            rend la prediction sur x             \n",
    "        \"\"\"\n",
    "        somme=0\n",
    "        for tree in self.treeSet:\n",
    "            somme += tree.predict(x)\n",
    "        return +1 if somme>=0 else -1"
   ]
  },
  {
   "cell_type": "code",
   "execution_count": 75,
   "metadata": {},
   "outputs": [
    {
     "name": "stdout",
     "output_type": "stream",
     "text": [
      "\n",
      "accuracy totale: 0.95\n"
     ]
    },
    {
     "data": {
      "image/png": "[encoded data removed]",
      "text/plain": [
       "<Figure size 432x288 with 1 Axes>"
      ]
     },
     "metadata": {
      "needs_background": "light"
     },
     "output_type": "display_data"
    }
   ],
   "source": [
    "random.seed(42)   # on prend 42 comme graine\n",
    "\n",
    "foret_1 = ClassifierBaggingTree(5,0.3,0.0,True)\n",
    "foret_1.train((d_desc,d_label))\n",
    "# Affichage de la frontière de séparation des classes\n",
    "ut.plot_frontiere(d_desc,d_label,foret_1,step=100)\n",
    "ut.plot2DSet(d_desc,d_label)\n",
    "\n",
    "print(\"\\naccuracy totale:\",foret_1.accuracy(d_desc,d_label))"
   ]
  },
  {
   "cell_type": "markdown",
   "metadata": {},
   "source": [
    "### Expérimentations\n",
    "\n",
    "<font color=\"RED\" size=\"+1\">**[Q]**</font> Expérimenter l'algorithme précédent de la façon suivante :\n",
    "- générer un dataset de train $Data$ contenant 1000 exemples ;\n",
    "- générer une base de test $T$ contenant 200 exemples ;\n",
    "- réaliser un apprentissage par bagging avec $Data$ et évaluer le taux de prédiction du modèle obtenu sur $T$ ;\n",
    "- construire la courbe donnant le **taux d'erreur** obtenu en augmentant la taille de la forêt d'arbres de 1 à 20 arbres. \n",
    "\n",
    "**Remarque**: réinitialiser la graine aléatoire avant de construire une forêt."
   ]
  },
  {
   "cell_type": "code",
   "execution_count": 87,
   "metadata": {},
   "outputs": [
    {
     "data": {
      "image/png": "[encoded data removed]",
      "text/plain": [
       "<Figure size 432x288 with 1 Axes>"
      ]
     },
     "metadata": {
      "needs_background": "light"
     },
     "output_type": "display_data"
    }
   ],
   "source": [
    "# On initialise la graine\n",
    "np.random.seed(42)   \n",
    "DATA = ut.genere_dataset_gaussian(np.array([1,1]),np.array([[1,0],[0,1]]), \\\n",
    "                                             np.array([-1,-1]),np.array([[1,0],[0,1]]), 500)\n",
    "T = ut.genere_dataset_gaussian(np.array([1,1]),np.array([[1,0],[0,1]]), \\\n",
    "                                             np.array([-1,-1]),np.array([[1,0],[0,1]]), 100)\n",
    "# Affichage :\n",
    "ut.plot2DSet(DATA[0],DATA[1])"
   ]
  },
  {
   "cell_type": "code",
   "execution_count": 105,
   "metadata": {},
   "outputs": [],
   "source": [
    "import time"
   ]
  },
  {
   "cell_type": "code",
   "execution_count": 106,
   "metadata": {},
   "outputs": [
    {
     "name": "stdout",
     "output_type": "stream",
     "text": [
      "Taille du train set généré : (1000, 2) exemples\n",
      "Taille du test set généré  : (200, 2) exemples\n",
      "Finished Execution 183\n"
     ]
    }
   ],
   "source": [
    "random.seed(42)\n",
    "print(\"Taille du train set généré : {} exemples\".format(DATA[0].shape))\n",
    "print(\"Taille du test set généré  : {} exemples\".format(T[0].shape))\n",
    "d_desc,d_label = DATA[0],DATA[1]\n",
    "t_desc,t_label = T[0],T[1]\n",
    "train, test = [], []\n",
    "tic = time.time()\n",
    "for b in range(20):\n",
    "    foret_2 = ClassifierBaggingTree(b+1,0.75,0.0,True)\n",
    "    foret_2.train(DATA)\n",
    "    train.append(1-foret_2.accuracy(d_desc,d_label))\n",
    "    test.append(1-foret_2.accuracy(t_desc,t_label))\n",
    "print(\"Finished Execution\", round(time.time()-tic), \" seconds\")"
   ]
  },
  {
   "cell_type": "code",
   "execution_count": 107,
   "metadata": {},
   "outputs": [
    {
     "data": {
      "text/plain": [
       "[<matplotlib.lines.Line2D at 0x128f8d21600>]"
      ]
     },
     "execution_count": 107,
     "metadata": {},
     "output_type": "execute_result"
    },
    {
     "data": {
      "image/png": "[encoded data removed]",
      "text/plain": [
       "<Figure size 432x288 with 1 Axes>"
      ]
     },
     "metadata": {
      "needs_background": "light"
     },
     "output_type": "display_data"
    }
   ],
   "source": [
    "x_axis = [i+1 for i in range(20)]\n",
    "plt.plot(x_axis, train,color = 'blue')\n",
    "plt.plot(x_axis, test, color = 'red')"
   ]
  },
  {
   "cell_type": "code",
   "execution_count": 21,
   "metadata": {},
   "outputs": [
    {
     "name": "stdout",
     "output_type": "stream",
     "text": [
      "Taille du train set généré : (200, 2) exemples\n",
      "Taille du test set généré : (1000, 2) exemples\n",
      "On choisit: 75% des exemples pour construire un arbre et seuil d'entropie à 0.0\n",
      "Tirage avec remise\n",
      "courbe bleue: train;\tcourbe rouge: test\n"
     ]
    },
    {
     "data": {
      "text/plain": [
       "[<matplotlib.lines.Line2D at 0x7fdf2095aa90>]"
      ]
     },
     "execution_count": 21,
     "metadata": {},
     "output_type": "execute_result"
    },
    {
     "data": {
      "image/png": "[encoded data removed]",
      "text/plain": [
       "<Figure size 432x288 with 1 Axes>"
      ]
     },
     "metadata": {
      "needs_background": "light"
     },
     "output_type": "display_data"
    }
   ],
   "source": []
  },
  {
   "cell_type": "markdown",
   "metadata": {},
   "source": [
    "## Random forests\n",
    "\n",
    "<font color=\"RED\" size=\"+1\"><b>[Q]</b></font> Ecrire et tester la classe <code>ClassifierRandomForest</code> qui implémente l'algorithme des random forests vu en cours.\n",
    "\n",
    "Pour cela, vous devrez:\n",
    "- définir une méthode <code>construit_AD_aleatoire(LS,epsilon,nb_att)</code> qui utilise $nb_att$ attributs choisis aléatoirement à chaque niveau de la construction de l'arbre\n",
    "- définir une nouvelle classe <code>ArbreDecisionAleatoire</code> qui étend la classe <code>ArbreDecision</code> en surchargeant la méthode <code>train</code>. Le constructeur d'un tel arbre prendra en argument le nombre d'attributs à utiliser lors de la construction de l'arbre.\n",
    "\n",
    "**Remarque:** pour expérimenter (selon le modèle de l'exemple précédent, il est plus intéressant d'avoir un dataset avec plus de 2 colonnes, vous pourrez donc prendre les datasets vus dans les tme précédent (iris, ou usks)."
   ]
  },
  {
   "cell_type": "code",
   "execution_count": null,
   "metadata": {},
   "outputs": [],
   "source": [
    "class ClassifierRandomForest(cl.Classifier):\n",
    "    def __init__(self, B, perc, seuil, r):\n",
    "        \"\"\" Constructeur\n",
    "            Argument:\n",
    "                - intput_dimension (int) : dimension de la description des exemples\n",
    "                - epsilon (float) : paramètre de l'algorithme (cf. explications précédentes)\n",
    "                - LNoms : Liste des noms de dimensions (si connues)\n",
    "            Hypothèse : input_dimension > 0\n",
    "        \"\"\"\n",
    "        self.B = B\n",
    "        self.perc = perc\n",
    "        self.r = r\n",
    "        self.seuil = seuil\n",
    "        \n",
    "    def train(self, LabeledSet):\n",
    "        \"\"\" Permet d'entrainer le modele sur l'ensemble donné\n",
    "            desc_set: ndarray avec des descriptions\n",
    "            label_set: ndarray avec les labels correspondants\n",
    "            Hypothèse: desc_set et label_set ont le même nombre de lignes\n",
    "        \"\"\"        \n",
    "        self.treeSet = set(cl.ClassifierArbreNumerique(LabeledSet[0][1], self.seuil) for i in range(self.B))\n",
    "        taille_ech = round(len(LabeledSet[0])*self.perc)\n",
    "        for tree in self.treeSet:\n",
    "            X, Y = echantillonLS(LabeledSet, taille_ech, self.r)\n",
    "            tree.train(X,Y)\n",
    "    \n",
    "    def predict(self, x):\n",
    "        \"\"\" x (array): une description d'exemple\n",
    "            rend la prediction sur x             \n",
    "        \"\"\"\n",
    "        somme=0\n",
    "        for tree in self.treeSet:\n",
    "            somme += tree.predict(x)\n",
    "        return +1 if somme>=0 else -1"
   ]
  },
  {
   "cell_type": "markdown",
   "metadata": {},
   "source": [
    "## Expérimentation\n",
    "\n",
    "<font color=\"RED\" size=\"+1\"><b>[Q]</b></font> Comparer le bagging d'arbres et les random forests sur d'autres bases d'apprentissage (réelles ou générées aléatoirement). Construire la courbe donnant le taux de prédiction pour une forêt d'arbres variant de 1 à 100 arbres (cela peut prendre du temps, tester sur un nombre réduit d'arbres dans un premier temps)."
   ]
  },
  {
   "cell_type": "markdown",
   "metadata": {},
   "source": [
    "## Exercices à faire chez vous (sur papier)\n",
    "\n",
    "Pour vous entraîner sans machine... *(exercice de l'examen 2017)*\n",
    "\n",
    "Soit $V=\\{v_{1}, v_{2},..., v_{n}\\}$ un ensemble de $n$ valeurs réelles ordonnées,\n",
    "  telles que $v_1 \\geq v_2 \\geq \\ldots \\geq v_{n}$.. On note $\\bar{v}$ la valeur moyenne de $V$. La variance de $V$, $var(V)$ est définie par:\n",
    "$var(V) = \\frac{1}{n} \\sum_{i=1}^{n} (v_{i} - \\bar{v})^2$. \n",
    "\n",
    "Et soit $W=\\{w_{1}, w_{2},..., w_{n}\\}$ tel que,pour tout $i=1,...,n$.\n",
    "\n",
    "\n",
    "<font color=\"RED\" size=\"+1\"><b>[Q]</b></font> Donner l'expression de $\\bar{v}$ en fonction des valeurs de $V$.\n",
    "\n",
    "<font color=\"RED\" size=\"+1\"><b>[Q]</b></font> Montrer que $var(aV+b) = a^2 var(V)$.\n",
    "\n",
    "<font color=\"RED\" size=\"+1\"><b>[Q]</b></font> Donner l'expression de $V\\cdot W$ (le produit scalaire) en fonction des coordonnées\n",
    "   de $V$ et de $W$.\n",
    "   \n",
    "<font color=\"RED\" size=\"+1\"><b>[Q]</b></font> Comment doit-on définir $W$ si on souhaite que $V\\cdot W = \\bar{v}$ ?\n",
    "\n",
    "\n",
    "<font color=\"RED\" size=\"+1\"><b>[Q]</b></font> Comment doit-on définir $W$ si on souhaite que\n",
    "   $V\\cdot W = \\displaystyle\\max_{i=1,...n} v_i$ ? Même question si on souhaite que\n",
    "   $V\\cdot W = \\displaystyle\\min_{i=1,...n} v_i$ ?\n",
    "\n",
    "<font color=\"RED\" size=\"+1\"><b>[Q]</b></font> Soit un entier $k$ tel que $0<k\\leq n$. Proposer une définition de $W$ qui, par le\n",
    "   calcul du produit scalaire, permet de ne tenir compte, de façon équitable, que des $k$\n",
    "   valeurs les plus élevées de $V$.\n",
    "\n"
   ]
  },
  {
   "cell_type": "markdown",
   "metadata": {},
   "source": [
    "## (optionnel) Evaluation par la méthode \"Out Of Bags\"\n",
    "\n",
    "<font color=\"RED\" size=\"+1\">**[Q]**</font> Sur les mêmes données, réaliser une évaluation par la méthode \"Out Of Bags\" vue en cours. Construire la courbe donnant le taux de prédiction OOB en fonction de la taille de la forêt d'arbres.\n",
    "\n",
    "Pour cela, écrire la classe <code>ClassifierBaggingTreeOOB</code> qui étend la classe d'un classifieur bagging pour prendre en compte la spécificité de l'approche OOB.\n",
    "Ainsi, à partir de $\\mathcal{X}$, l'ensemble des données d'apprentissage, chaque arbre $A_i$ de la forêt est associé à 2 sous-ensembles de $\\mathcal{X}$: \n",
    "- $\\mathcal{X}_i$: l'échantillon bootstrap qui sert à construire l'arbre $A_i$\n",
    "- $\\mathcal{T}_i$: l'ensemble des exemples OOB associés à l'arbre $A_i$\n",
    "\n",
    "Le calcul du taux de bonne classification s'effectuera comme suit:\n",
    "- soit $t_i$ le taux de bonne classification de $A_i$ pour l'ensemble OOB $\\mathcal{T}_i$\n",
    "- le taux de global de bonne classification de la forêt d'arbres $A_1$,..., $A_B$ est donné par $\\frac{1}{B}\\sum_{i=1}^{B} t_i$\n"
   ]
  },
  {
   "cell_type": "code",
   "execution_count": null,
   "metadata": {},
   "outputs": [],
   "source": []
  }
 ],
 "metadata": {
  "kernelspec": {
   "display_name": "Python 3 (ipykernel)",
   "language": "python",
   "name": "python3"
  },
  "language_info": {
   "codemirror_mode": {
    "name": "ipython",
    "version": 3
   },
   "file_extension": ".py",
   "mimetype": "text/x-python",
   "name": "python",
   "nbconvert_exporter": "python",
   "pygments_lexer": "ipython3",
   "version": "3.10.0"
  }
 },
 "nbformat": 4,
 "nbformat_minor": 1
}
